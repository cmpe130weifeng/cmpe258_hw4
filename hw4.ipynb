{
  "nbformat": 4,
  "nbformat_minor": 0,
  "metadata": {
    "colab": {
      "name": "hw4.ipynb",
      "provenance": [],
      "collapsed_sections": [
        "2VU6gK9d5o6b",
        "qRkYIl2pD7U_",
        "ZCta7h6FKHLF"
      ]
    },
    "kernelspec": {
      "name": "python3",
      "display_name": "Python 3"
    },
    "language_info": {
      "name": "python"
    },
    "accelerator": "GPU",
    "widgets": {
      "application/vnd.jupyter.widget-state+json": {
        "310e4c5967ce44c6bcb3a667267778dc": {
          "model_module": "@jupyter-widgets/controls",
          "model_name": "VBoxModel",
          "model_module_version": "1.5.0",
          "state": {
            "_dom_classes": [],
            "_model_module": "@jupyter-widgets/controls",
            "_model_module_version": "1.5.0",
            "_model_name": "VBoxModel",
            "_view_count": null,
            "_view_module": "@jupyter-widgets/controls",
            "_view_module_version": "1.5.0",
            "_view_name": "VBoxView",
            "box_style": "",
            "children": [
              "IPY_MODEL_e3aa5f47a2c74722a1626b0e7300a80c",
              "IPY_MODEL_391cfab8f8654cac83eec28fd0dfa919"
            ],
            "layout": "IPY_MODEL_1ec6964db54d47b49556bdc0c5d43d96"
          }
        },
        "e3aa5f47a2c74722a1626b0e7300a80c": {
          "model_module": "@jupyter-widgets/controls",
          "model_name": "LabelModel",
          "model_module_version": "1.5.0",
          "state": {
            "_dom_classes": [],
            "_model_module": "@jupyter-widgets/controls",
            "_model_module_version": "1.5.0",
            "_model_name": "LabelModel",
            "_view_count": null,
            "_view_module": "@jupyter-widgets/controls",
            "_view_module_version": "1.5.0",
            "_view_name": "LabelView",
            "description": "",
            "description_tooltip": null,
            "layout": "IPY_MODEL_a5d0e827987c49b8ad2ffa9b90da0bb3",
            "placeholder": "​",
            "style": "IPY_MODEL_63c73bdee5b4486599efb0a07d3aade6",
            "value": "0.008 MB of 0.008 MB uploaded (0.000 MB deduped)\r"
          }
        },
        "391cfab8f8654cac83eec28fd0dfa919": {
          "model_module": "@jupyter-widgets/controls",
          "model_name": "FloatProgressModel",
          "model_module_version": "1.5.0",
          "state": {
            "_dom_classes": [],
            "_model_module": "@jupyter-widgets/controls",
            "_model_module_version": "1.5.0",
            "_model_name": "FloatProgressModel",
            "_view_count": null,
            "_view_module": "@jupyter-widgets/controls",
            "_view_module_version": "1.5.0",
            "_view_name": "ProgressView",
            "bar_style": "",
            "description": "",
            "description_tooltip": null,
            "layout": "IPY_MODEL_b8081bdb98d24c74819679e789ff320d",
            "max": 1,
            "min": 0,
            "orientation": "horizontal",
            "style": "IPY_MODEL_09ca48f07da74effa1f2b3c8ee898b8a",
            "value": 1
          }
        },
        "1ec6964db54d47b49556bdc0c5d43d96": {
          "model_module": "@jupyter-widgets/base",
          "model_name": "LayoutModel",
          "model_module_version": "1.2.0",
          "state": {
            "_model_module": "@jupyter-widgets/base",
            "_model_module_version": "1.2.0",
            "_model_name": "LayoutModel",
            "_view_count": null,
            "_view_module": "@jupyter-widgets/base",
            "_view_module_version": "1.2.0",
            "_view_name": "LayoutView",
            "align_content": null,
            "align_items": null,
            "align_self": null,
            "border": null,
            "bottom": null,
            "display": null,
            "flex": null,
            "flex_flow": null,
            "grid_area": null,
            "grid_auto_columns": null,
            "grid_auto_flow": null,
            "grid_auto_rows": null,
            "grid_column": null,
            "grid_gap": null,
            "grid_row": null,
            "grid_template_areas": null,
            "grid_template_columns": null,
            "grid_template_rows": null,
            "height": null,
            "justify_content": null,
            "justify_items": null,
            "left": null,
            "margin": null,
            "max_height": null,
            "max_width": null,
            "min_height": null,
            "min_width": null,
            "object_fit": null,
            "object_position": null,
            "order": null,
            "overflow": null,
            "overflow_x": null,
            "overflow_y": null,
            "padding": null,
            "right": null,
            "top": null,
            "visibility": null,
            "width": null
          }
        },
        "a5d0e827987c49b8ad2ffa9b90da0bb3": {
          "model_module": "@jupyter-widgets/base",
          "model_name": "LayoutModel",
          "model_module_version": "1.2.0",
          "state": {
            "_model_module": "@jupyter-widgets/base",
            "_model_module_version": "1.2.0",
            "_model_name": "LayoutModel",
            "_view_count": null,
            "_view_module": "@jupyter-widgets/base",
            "_view_module_version": "1.2.0",
            "_view_name": "LayoutView",
            "align_content": null,
            "align_items": null,
            "align_self": null,
            "border": null,
            "bottom": null,
            "display": null,
            "flex": null,
            "flex_flow": null,
            "grid_area": null,
            "grid_auto_columns": null,
            "grid_auto_flow": null,
            "grid_auto_rows": null,
            "grid_column": null,
            "grid_gap": null,
            "grid_row": null,
            "grid_template_areas": null,
            "grid_template_columns": null,
            "grid_template_rows": null,
            "height": null,
            "justify_content": null,
            "justify_items": null,
            "left": null,
            "margin": null,
            "max_height": null,
            "max_width": null,
            "min_height": null,
            "min_width": null,
            "object_fit": null,
            "object_position": null,
            "order": null,
            "overflow": null,
            "overflow_x": null,
            "overflow_y": null,
            "padding": null,
            "right": null,
            "top": null,
            "visibility": null,
            "width": null
          }
        },
        "63c73bdee5b4486599efb0a07d3aade6": {
          "model_module": "@jupyter-widgets/controls",
          "model_name": "DescriptionStyleModel",
          "model_module_version": "1.5.0",
          "state": {
            "_model_module": "@jupyter-widgets/controls",
            "_model_module_version": "1.5.0",
            "_model_name": "DescriptionStyleModel",
            "_view_count": null,
            "_view_module": "@jupyter-widgets/base",
            "_view_module_version": "1.2.0",
            "_view_name": "StyleView",
            "description_width": ""
          }
        },
        "b8081bdb98d24c74819679e789ff320d": {
          "model_module": "@jupyter-widgets/base",
          "model_name": "LayoutModel",
          "model_module_version": "1.2.0",
          "state": {
            "_model_module": "@jupyter-widgets/base",
            "_model_module_version": "1.2.0",
            "_model_name": "LayoutModel",
            "_view_count": null,
            "_view_module": "@jupyter-widgets/base",
            "_view_module_version": "1.2.0",
            "_view_name": "LayoutView",
            "align_content": null,
            "align_items": null,
            "align_self": null,
            "border": null,
            "bottom": null,
            "display": null,
            "flex": null,
            "flex_flow": null,
            "grid_area": null,
            "grid_auto_columns": null,
            "grid_auto_flow": null,
            "grid_auto_rows": null,
            "grid_column": null,
            "grid_gap": null,
            "grid_row": null,
            "grid_template_areas": null,
            "grid_template_columns": null,
            "grid_template_rows": null,
            "height": null,
            "justify_content": null,
            "justify_items": null,
            "left": null,
            "margin": null,
            "max_height": null,
            "max_width": null,
            "min_height": null,
            "min_width": null,
            "object_fit": null,
            "object_position": null,
            "order": null,
            "overflow": null,
            "overflow_x": null,
            "overflow_y": null,
            "padding": null,
            "right": null,
            "top": null,
            "visibility": null,
            "width": null
          }
        },
        "09ca48f07da74effa1f2b3c8ee898b8a": {
          "model_module": "@jupyter-widgets/controls",
          "model_name": "ProgressStyleModel",
          "model_module_version": "1.5.0",
          "state": {
            "_model_module": "@jupyter-widgets/controls",
            "_model_module_version": "1.5.0",
            "_model_name": "ProgressStyleModel",
            "_view_count": null,
            "_view_module": "@jupyter-widgets/base",
            "_view_module_version": "1.2.0",
            "_view_name": "StyleView",
            "bar_color": null,
            "description_width": ""
          }
        },
        "1781376315bd4ca482f03cc21476d33d": {
          "model_module": "@jupyter-widgets/controls",
          "model_name": "VBoxModel",
          "model_module_version": "1.5.0",
          "state": {
            "_dom_classes": [],
            "_model_module": "@jupyter-widgets/controls",
            "_model_module_version": "1.5.0",
            "_model_name": "VBoxModel",
            "_view_count": null,
            "_view_module": "@jupyter-widgets/controls",
            "_view_module_version": "1.5.0",
            "_view_name": "VBoxView",
            "box_style": "",
            "children": [
              "IPY_MODEL_b4092e14070b4a9396ac6b435b15eebd",
              "IPY_MODEL_75947a2d0fbc4b81b64f0e3912b35d84"
            ],
            "layout": "IPY_MODEL_dfec2530d37c4ca5af82971a99afaa70"
          }
        },
        "b4092e14070b4a9396ac6b435b15eebd": {
          "model_module": "@jupyter-widgets/controls",
          "model_name": "LabelModel",
          "model_module_version": "1.5.0",
          "state": {
            "_dom_classes": [],
            "_model_module": "@jupyter-widgets/controls",
            "_model_module_version": "1.5.0",
            "_model_name": "LabelModel",
            "_view_count": null,
            "_view_module": "@jupyter-widgets/controls",
            "_view_module_version": "1.5.0",
            "_view_name": "LabelView",
            "description": "",
            "description_tooltip": null,
            "layout": "IPY_MODEL_fd1c71048dc9482d941a6d4ea81907cc",
            "placeholder": "​",
            "style": "IPY_MODEL_d3ca8b52def24eecab38bb9ed27d22ba",
            "value": "0.008 MB of 0.008 MB uploaded (0.000 MB deduped)\r"
          }
        },
        "75947a2d0fbc4b81b64f0e3912b35d84": {
          "model_module": "@jupyter-widgets/controls",
          "model_name": "FloatProgressModel",
          "model_module_version": "1.5.0",
          "state": {
            "_dom_classes": [],
            "_model_module": "@jupyter-widgets/controls",
            "_model_module_version": "1.5.0",
            "_model_name": "FloatProgressModel",
            "_view_count": null,
            "_view_module": "@jupyter-widgets/controls",
            "_view_module_version": "1.5.0",
            "_view_name": "ProgressView",
            "bar_style": "",
            "description": "",
            "description_tooltip": null,
            "layout": "IPY_MODEL_56e98305824d4b1b8a888a0598f37917",
            "max": 1,
            "min": 0,
            "orientation": "horizontal",
            "style": "IPY_MODEL_a963a4859be6404d96897a3237186271",
            "value": 1
          }
        },
        "dfec2530d37c4ca5af82971a99afaa70": {
          "model_module": "@jupyter-widgets/base",
          "model_name": "LayoutModel",
          "model_module_version": "1.2.0",
          "state": {
            "_model_module": "@jupyter-widgets/base",
            "_model_module_version": "1.2.0",
            "_model_name": "LayoutModel",
            "_view_count": null,
            "_view_module": "@jupyter-widgets/base",
            "_view_module_version": "1.2.0",
            "_view_name": "LayoutView",
            "align_content": null,
            "align_items": null,
            "align_self": null,
            "border": null,
            "bottom": null,
            "display": null,
            "flex": null,
            "flex_flow": null,
            "grid_area": null,
            "grid_auto_columns": null,
            "grid_auto_flow": null,
            "grid_auto_rows": null,
            "grid_column": null,
            "grid_gap": null,
            "grid_row": null,
            "grid_template_areas": null,
            "grid_template_columns": null,
            "grid_template_rows": null,
            "height": null,
            "justify_content": null,
            "justify_items": null,
            "left": null,
            "margin": null,
            "max_height": null,
            "max_width": null,
            "min_height": null,
            "min_width": null,
            "object_fit": null,
            "object_position": null,
            "order": null,
            "overflow": null,
            "overflow_x": null,
            "overflow_y": null,
            "padding": null,
            "right": null,
            "top": null,
            "visibility": null,
            "width": null
          }
        },
        "fd1c71048dc9482d941a6d4ea81907cc": {
          "model_module": "@jupyter-widgets/base",
          "model_name": "LayoutModel",
          "model_module_version": "1.2.0",
          "state": {
            "_model_module": "@jupyter-widgets/base",
            "_model_module_version": "1.2.0",
            "_model_name": "LayoutModel",
            "_view_count": null,
            "_view_module": "@jupyter-widgets/base",
            "_view_module_version": "1.2.0",
            "_view_name": "LayoutView",
            "align_content": null,
            "align_items": null,
            "align_self": null,
            "border": null,
            "bottom": null,
            "display": null,
            "flex": null,
            "flex_flow": null,
            "grid_area": null,
            "grid_auto_columns": null,
            "grid_auto_flow": null,
            "grid_auto_rows": null,
            "grid_column": null,
            "grid_gap": null,
            "grid_row": null,
            "grid_template_areas": null,
            "grid_template_columns": null,
            "grid_template_rows": null,
            "height": null,
            "justify_content": null,
            "justify_items": null,
            "left": null,
            "margin": null,
            "max_height": null,
            "max_width": null,
            "min_height": null,
            "min_width": null,
            "object_fit": null,
            "object_position": null,
            "order": null,
            "overflow": null,
            "overflow_x": null,
            "overflow_y": null,
            "padding": null,
            "right": null,
            "top": null,
            "visibility": null,
            "width": null
          }
        },
        "d3ca8b52def24eecab38bb9ed27d22ba": {
          "model_module": "@jupyter-widgets/controls",
          "model_name": "DescriptionStyleModel",
          "model_module_version": "1.5.0",
          "state": {
            "_model_module": "@jupyter-widgets/controls",
            "_model_module_version": "1.5.0",
            "_model_name": "DescriptionStyleModel",
            "_view_count": null,
            "_view_module": "@jupyter-widgets/base",
            "_view_module_version": "1.2.0",
            "_view_name": "StyleView",
            "description_width": ""
          }
        },
        "56e98305824d4b1b8a888a0598f37917": {
          "model_module": "@jupyter-widgets/base",
          "model_name": "LayoutModel",
          "model_module_version": "1.2.0",
          "state": {
            "_model_module": "@jupyter-widgets/base",
            "_model_module_version": "1.2.0",
            "_model_name": "LayoutModel",
            "_view_count": null,
            "_view_module": "@jupyter-widgets/base",
            "_view_module_version": "1.2.0",
            "_view_name": "LayoutView",
            "align_content": null,
            "align_items": null,
            "align_self": null,
            "border": null,
            "bottom": null,
            "display": null,
            "flex": null,
            "flex_flow": null,
            "grid_area": null,
            "grid_auto_columns": null,
            "grid_auto_flow": null,
            "grid_auto_rows": null,
            "grid_column": null,
            "grid_gap": null,
            "grid_row": null,
            "grid_template_areas": null,
            "grid_template_columns": null,
            "grid_template_rows": null,
            "height": null,
            "justify_content": null,
            "justify_items": null,
            "left": null,
            "margin": null,
            "max_height": null,
            "max_width": null,
            "min_height": null,
            "min_width": null,
            "object_fit": null,
            "object_position": null,
            "order": null,
            "overflow": null,
            "overflow_x": null,
            "overflow_y": null,
            "padding": null,
            "right": null,
            "top": null,
            "visibility": null,
            "width": null
          }
        },
        "a963a4859be6404d96897a3237186271": {
          "model_module": "@jupyter-widgets/controls",
          "model_name": "ProgressStyleModel",
          "model_module_version": "1.5.0",
          "state": {
            "_model_module": "@jupyter-widgets/controls",
            "_model_module_version": "1.5.0",
            "_model_name": "ProgressStyleModel",
            "_view_count": null,
            "_view_module": "@jupyter-widgets/base",
            "_view_module_version": "1.2.0",
            "_view_name": "StyleView",
            "bar_color": null,
            "description_width": ""
          }
        },
        "cbe05afb515d4f41a76f8895ce484cfb": {
          "model_module": "@jupyter-widgets/controls",
          "model_name": "VBoxModel",
          "model_module_version": "1.5.0",
          "state": {
            "_dom_classes": [],
            "_model_module": "@jupyter-widgets/controls",
            "_model_module_version": "1.5.0",
            "_model_name": "VBoxModel",
            "_view_count": null,
            "_view_module": "@jupyter-widgets/controls",
            "_view_module_version": "1.5.0",
            "_view_name": "VBoxView",
            "box_style": "",
            "children": [
              "IPY_MODEL_0f2e1d3b541c4b56a55b1a0d1b1b2118",
              "IPY_MODEL_e68f351eb38640c990bc37f97bbb22fd"
            ],
            "layout": "IPY_MODEL_c8b5f2fd70c34b578a9090eca4bc575a"
          }
        },
        "0f2e1d3b541c4b56a55b1a0d1b1b2118": {
          "model_module": "@jupyter-widgets/controls",
          "model_name": "LabelModel",
          "model_module_version": "1.5.0",
          "state": {
            "_dom_classes": [],
            "_model_module": "@jupyter-widgets/controls",
            "_model_module_version": "1.5.0",
            "_model_name": "LabelModel",
            "_view_count": null,
            "_view_module": "@jupyter-widgets/controls",
            "_view_module_version": "1.5.0",
            "_view_name": "LabelView",
            "description": "",
            "description_tooltip": null,
            "layout": "IPY_MODEL_306059c94e6e4133bbbcfbbcab6a9300",
            "placeholder": "​",
            "style": "IPY_MODEL_5ae87284c1c84e27a765784823109539",
            "value": "0.008 MB of 0.008 MB uploaded (0.000 MB deduped)\r"
          }
        },
        "e68f351eb38640c990bc37f97bbb22fd": {
          "model_module": "@jupyter-widgets/controls",
          "model_name": "FloatProgressModel",
          "model_module_version": "1.5.0",
          "state": {
            "_dom_classes": [],
            "_model_module": "@jupyter-widgets/controls",
            "_model_module_version": "1.5.0",
            "_model_name": "FloatProgressModel",
            "_view_count": null,
            "_view_module": "@jupyter-widgets/controls",
            "_view_module_version": "1.5.0",
            "_view_name": "ProgressView",
            "bar_style": "",
            "description": "",
            "description_tooltip": null,
            "layout": "IPY_MODEL_b289da0ea3ad4848a9100652bba9df89",
            "max": 1,
            "min": 0,
            "orientation": "horizontal",
            "style": "IPY_MODEL_4820cd5ff6474a9b8dd2f80f028f4145",
            "value": 1
          }
        },
        "c8b5f2fd70c34b578a9090eca4bc575a": {
          "model_module": "@jupyter-widgets/base",
          "model_name": "LayoutModel",
          "model_module_version": "1.2.0",
          "state": {
            "_model_module": "@jupyter-widgets/base",
            "_model_module_version": "1.2.0",
            "_model_name": "LayoutModel",
            "_view_count": null,
            "_view_module": "@jupyter-widgets/base",
            "_view_module_version": "1.2.0",
            "_view_name": "LayoutView",
            "align_content": null,
            "align_items": null,
            "align_self": null,
            "border": null,
            "bottom": null,
            "display": null,
            "flex": null,
            "flex_flow": null,
            "grid_area": null,
            "grid_auto_columns": null,
            "grid_auto_flow": null,
            "grid_auto_rows": null,
            "grid_column": null,
            "grid_gap": null,
            "grid_row": null,
            "grid_template_areas": null,
            "grid_template_columns": null,
            "grid_template_rows": null,
            "height": null,
            "justify_content": null,
            "justify_items": null,
            "left": null,
            "margin": null,
            "max_height": null,
            "max_width": null,
            "min_height": null,
            "min_width": null,
            "object_fit": null,
            "object_position": null,
            "order": null,
            "overflow": null,
            "overflow_x": null,
            "overflow_y": null,
            "padding": null,
            "right": null,
            "top": null,
            "visibility": null,
            "width": null
          }
        },
        "306059c94e6e4133bbbcfbbcab6a9300": {
          "model_module": "@jupyter-widgets/base",
          "model_name": "LayoutModel",
          "model_module_version": "1.2.0",
          "state": {
            "_model_module": "@jupyter-widgets/base",
            "_model_module_version": "1.2.0",
            "_model_name": "LayoutModel",
            "_view_count": null,
            "_view_module": "@jupyter-widgets/base",
            "_view_module_version": "1.2.0",
            "_view_name": "LayoutView",
            "align_content": null,
            "align_items": null,
            "align_self": null,
            "border": null,
            "bottom": null,
            "display": null,
            "flex": null,
            "flex_flow": null,
            "grid_area": null,
            "grid_auto_columns": null,
            "grid_auto_flow": null,
            "grid_auto_rows": null,
            "grid_column": null,
            "grid_gap": null,
            "grid_row": null,
            "grid_template_areas": null,
            "grid_template_columns": null,
            "grid_template_rows": null,
            "height": null,
            "justify_content": null,
            "justify_items": null,
            "left": null,
            "margin": null,
            "max_height": null,
            "max_width": null,
            "min_height": null,
            "min_width": null,
            "object_fit": null,
            "object_position": null,
            "order": null,
            "overflow": null,
            "overflow_x": null,
            "overflow_y": null,
            "padding": null,
            "right": null,
            "top": null,
            "visibility": null,
            "width": null
          }
        },
        "5ae87284c1c84e27a765784823109539": {
          "model_module": "@jupyter-widgets/controls",
          "model_name": "DescriptionStyleModel",
          "model_module_version": "1.5.0",
          "state": {
            "_model_module": "@jupyter-widgets/controls",
            "_model_module_version": "1.5.0",
            "_model_name": "DescriptionStyleModel",
            "_view_count": null,
            "_view_module": "@jupyter-widgets/base",
            "_view_module_version": "1.2.0",
            "_view_name": "StyleView",
            "description_width": ""
          }
        },
        "b289da0ea3ad4848a9100652bba9df89": {
          "model_module": "@jupyter-widgets/base",
          "model_name": "LayoutModel",
          "model_module_version": "1.2.0",
          "state": {
            "_model_module": "@jupyter-widgets/base",
            "_model_module_version": "1.2.0",
            "_model_name": "LayoutModel",
            "_view_count": null,
            "_view_module": "@jupyter-widgets/base",
            "_view_module_version": "1.2.0",
            "_view_name": "LayoutView",
            "align_content": null,
            "align_items": null,
            "align_self": null,
            "border": null,
            "bottom": null,
            "display": null,
            "flex": null,
            "flex_flow": null,
            "grid_area": null,
            "grid_auto_columns": null,
            "grid_auto_flow": null,
            "grid_auto_rows": null,
            "grid_column": null,
            "grid_gap": null,
            "grid_row": null,
            "grid_template_areas": null,
            "grid_template_columns": null,
            "grid_template_rows": null,
            "height": null,
            "justify_content": null,
            "justify_items": null,
            "left": null,
            "margin": null,
            "max_height": null,
            "max_width": null,
            "min_height": null,
            "min_width": null,
            "object_fit": null,
            "object_position": null,
            "order": null,
            "overflow": null,
            "overflow_x": null,
            "overflow_y": null,
            "padding": null,
            "right": null,
            "top": null,
            "visibility": null,
            "width": null
          }
        },
        "4820cd5ff6474a9b8dd2f80f028f4145": {
          "model_module": "@jupyter-widgets/controls",
          "model_name": "ProgressStyleModel",
          "model_module_version": "1.5.0",
          "state": {
            "_model_module": "@jupyter-widgets/controls",
            "_model_module_version": "1.5.0",
            "_model_name": "ProgressStyleModel",
            "_view_count": null,
            "_view_module": "@jupyter-widgets/base",
            "_view_module_version": "1.2.0",
            "_view_name": "StyleView",
            "bar_color": null,
            "description_width": ""
          }
        }
      }
    }
  },
  "cells": [
    {
      "cell_type": "markdown",
      "source": [
        "# A - Do a cobe lab with all hyperparameters learning rate decay, dropout, batch norm"
      ],
      "metadata": {
        "id": "2VU6gK9d5o6b"
      }
    },
    {
      "cell_type": "markdown",
      "source": [
        "Hint :https://codelabs.developers.google.com/codelabs/cloud-tensorflow-mnist?hl=en#0"
      ],
      "metadata": {
        "id": "dZbuvwLT5hHd"
      }
    },
    {
      "cell_type": "code",
      "execution_count": null,
      "metadata": {
        "id": "TJuXbFj9GMhz"
      },
      "outputs": [],
      "source": [
        "BATCH_SIZE = 64\n",
        "# EPOCHS = 10\n",
        "\n",
        "training_images_file   = 'gs://mnist-public/train-images-idx3-ubyte'\n",
        "training_labels_file   = 'gs://mnist-public/train-labels-idx1-ubyte'\n",
        "validation_images_file = 'gs://mnist-public/t10k-images-idx3-ubyte'\n",
        "validation_labels_file = 'gs://mnist-public/t10k-labels-idx1-ubyte'"
      ]
    },
    {
      "cell_type": "code",
      "source": [
        "import os, re, math, json, shutil, pprint\n",
        "import PIL.Image, PIL.ImageFont, PIL.ImageDraw\n",
        "import IPython.display as display\n",
        "import numpy as np\n",
        "import tensorflow as tf\n",
        "from matplotlib import pyplot as plt\n",
        "print(\"Tensorflow version \" + tf.__version__)"
      ],
      "metadata": {
        "colab": {
          "base_uri": "https://localhost:8080/"
        },
        "id": "9xHOIzRR52Ok",
        "outputId": "32b904ab-8690-4c3e-fec8-bd22618e572e"
      },
      "execution_count": null,
      "outputs": [
        {
          "output_type": "stream",
          "name": "stdout",
          "text": [
            "Tensorflow version 2.8.0\n"
          ]
        }
      ]
    },
    {
      "cell_type": "code",
      "source": [
        "AUTO = tf.data.experimental.AUTOTUNE\n",
        "\n",
        "def read_label(tf_bytestring):\n",
        "    label = tf.io.decode_raw(tf_bytestring, tf.uint8)\n",
        "    label = tf.reshape(label, [])\n",
        "    label = tf.one_hot(label, 10)\n",
        "    return label\n",
        "  \n",
        "def read_image(tf_bytestring):\n",
        "    image = tf.io.decode_raw(tf_bytestring, tf.uint8)\n",
        "    image = tf.cast(image, tf.float32)/256.0\n",
        "    image = tf.reshape(image, [28*28])\n",
        "    return image\n",
        "  \n",
        "def load_dataset(image_file, label_file):\n",
        "    imagedataset = tf.data.FixedLengthRecordDataset(image_file, 28*28, header_bytes=16)\n",
        "    imagedataset = imagedataset.map(read_image, num_parallel_calls=16)\n",
        "    labelsdataset = tf.data.FixedLengthRecordDataset(label_file, 1, header_bytes=8)\n",
        "    labelsdataset = labelsdataset.map(read_label, num_parallel_calls=16)\n",
        "    dataset = tf.data.Dataset.zip((imagedataset, labelsdataset))\n",
        "    return dataset \n",
        "  \n",
        "def get_training_dataset(image_file, label_file, batch_size):\n",
        "    dataset = load_dataset(image_file, label_file)\n",
        "    dataset = dataset.cache()  # this small dataset can be entirely cached in RAM, for TPU this is important to get good performance from such a small dataset\n",
        "    dataset = dataset.shuffle(5000, reshuffle_each_iteration=True)\n",
        "    dataset = dataset.repeat() # Mandatory for Keras for now\n",
        "    dataset = dataset.batch(batch_size, drop_remainder=True) # drop_remainder is important on TPU, batch size must be fixed\n",
        "    dataset = dataset.prefetch(AUTO)  # fetch next batches while training on the current one (-1: autotune prefetch buffer size)\n",
        "    return dataset\n",
        "  \n",
        "def get_validation_dataset(image_file, label_file):\n",
        "    dataset = load_dataset(image_file, label_file)\n",
        "    dataset = dataset.cache() # this small dataset can be entirely cached in RAM, for TPU this is important to get good performance from such a small dataset\n",
        "    dataset = dataset.batch(10000, drop_remainder=True) # 10000 items in eval dataset, all in one batch\n",
        "    dataset = dataset.repeat() # Mandatory for Keras for now\n",
        "    return dataset\n",
        "\n",
        "# instantiate the datasets\n",
        "training_dataset = get_training_dataset(training_images_file, training_labels_file, BATCH_SIZE)\n",
        "validation_dataset = get_validation_dataset(validation_images_file, validation_labels_file)\n",
        "\n",
        "# For TPU, we will need a function that returns the dataset\n",
        "training_input_fn = lambda: get_training_dataset(training_images_file, training_labels_file, BATCH_SIZE)\n",
        "validation_input_fn = lambda: get_validation_dataset(validation_images_file, validation_labels_file)"
      ],
      "metadata": {
        "id": "R_tQpOpj52Ru"
      },
      "execution_count": null,
      "outputs": []
    },
    {
      "cell_type": "code",
      "source": [
        "model = tf.keras.Sequential(\n",
        "  [\n",
        "      tf.keras.layers.Reshape(input_shape=(28*28,), target_shape=(28, 28, 1)),\n",
        "      \n",
        "      tf.keras.layers.Conv2D(kernel_size=3, filters=12, use_bias=False, padding='same'),\n",
        "      tf.keras.layers.BatchNormalization(center=True, scale=False),\n",
        "      tf.keras.layers.Activation('relu'),\n",
        "      \n",
        "      tf.keras.layers.Conv2D(kernel_size=6, filters=24, use_bias=False, padding='same', strides=2),\n",
        "      tf.keras.layers.BatchNormalization(center=True, scale=False),\n",
        "      tf.keras.layers.Activation('relu'),\n",
        "      \n",
        "      tf.keras.layers.Conv2D(kernel_size=6, filters=32, use_bias=False, padding='same', strides=2),\n",
        "      tf.keras.layers.BatchNormalization(center=True, scale=False),\n",
        "      tf.keras.layers.Activation('relu'),\n",
        "      \n",
        "      tf.keras.layers.Flatten(),\n",
        "      \n",
        "      tf.keras.layers.Dense(200, use_bias=False),\n",
        "      tf.keras.layers.BatchNormalization(center=True, scale=False),\n",
        "      tf.keras.layers.Activation('relu'),\n",
        "      \n",
        "      tf.keras.layers.Dropout(0.3),\n",
        "      tf.keras.layers.Dense(10, activation='softmax')\n",
        "  ])\n",
        "\n",
        "model.compile(optimizer=tf.keras.optimizers.Adam(lr=0.01),\n",
        "              loss='categorical_crossentropy',\n",
        "              metrics=['accuracy'])\n",
        "\n",
        "# print model layers\n",
        "model.summary()"
      ],
      "metadata": {
        "colab": {
          "base_uri": "https://localhost:8080/"
        },
        "id": "S8F9fmc152YS",
        "outputId": "642e7b80-9dd0-416d-99c5-05a45fc6403e"
      },
      "execution_count": null,
      "outputs": [
        {
          "output_type": "stream",
          "name": "stdout",
          "text": [
            "Model: \"sequential_1\"\n",
            "_________________________________________________________________\n",
            " Layer (type)                Output Shape              Param #   \n",
            "=================================================================\n",
            " reshape_1 (Reshape)         (None, 28, 28, 1)         0         \n",
            "                                                                 \n",
            " conv2d_3 (Conv2D)           (None, 28, 28, 12)        108       \n",
            "                                                                 \n",
            " batch_normalization_4 (Batc  (None, 28, 28, 12)       36        \n",
            " hNormalization)                                                 \n",
            "                                                                 \n",
            " activation_4 (Activation)   (None, 28, 28, 12)        0         \n",
            "                                                                 \n",
            " conv2d_4 (Conv2D)           (None, 14, 14, 24)        10368     \n",
            "                                                                 \n",
            " batch_normalization_5 (Batc  (None, 14, 14, 24)       72        \n",
            " hNormalization)                                                 \n",
            "                                                                 \n",
            " activation_5 (Activation)   (None, 14, 14, 24)        0         \n",
            "                                                                 \n",
            " conv2d_5 (Conv2D)           (None, 7, 7, 32)          27648     \n",
            "                                                                 \n",
            " batch_normalization_6 (Batc  (None, 7, 7, 32)         96        \n",
            " hNormalization)                                                 \n",
            "                                                                 \n",
            " activation_6 (Activation)   (None, 7, 7, 32)          0         \n",
            "                                                                 \n",
            " flatten_1 (Flatten)         (None, 1568)              0         \n",
            "                                                                 \n",
            " dense_2 (Dense)             (None, 200)               313600    \n",
            "                                                                 \n",
            " batch_normalization_7 (Batc  (None, 200)              600       \n",
            " hNormalization)                                                 \n",
            "                                                                 \n",
            " activation_7 (Activation)   (None, 200)               0         \n",
            "                                                                 \n",
            " dropout_1 (Dropout)         (None, 200)               0         \n",
            "                                                                 \n",
            " dense_3 (Dense)             (None, 10)                2010      \n",
            "                                                                 \n",
            "=================================================================\n",
            "Total params: 354,538\n",
            "Trainable params: 354,002\n",
            "Non-trainable params: 536\n",
            "_________________________________________________________________\n"
          ]
        },
        {
          "output_type": "stream",
          "name": "stderr",
          "text": [
            "/usr/local/lib/python3.7/dist-packages/keras/optimizer_v2/adam.py:105: UserWarning: The `lr` argument is deprecated, use `learning_rate` instead.\n",
            "  super(Adam, self).__init__(name, **kwargs)\n"
          ]
        }
      ]
    },
    {
      "cell_type": "code",
      "source": [
        "# lr decay function\n",
        "def lr_decay(epoch):\n",
        "  return 0.01 * math.pow(0.666, epoch)\n",
        "\n",
        "# lr schedule callback\n",
        "lr_decay_callback = tf.keras.callbacks.LearningRateScheduler(lr_decay, verbose=True)"
      ],
      "metadata": {
        "id": "DPxFWd9GA-TQ"
      },
      "execution_count": null,
      "outputs": []
    },
    {
      "cell_type": "code",
      "source": [
        "steps_per_epoch = 60000//BATCH_SIZE  # 60,000 items in this dataset\n",
        "print(\"Steps per epoch: \", steps_per_epoch)\n",
        "\n",
        "history = model.fit(training_dataset, steps_per_epoch=steps_per_epoch, epochs=1,\n",
        "                    validation_data=validation_dataset, validation_steps=1)"
      ],
      "metadata": {
        "colab": {
          "base_uri": "https://localhost:8080/"
        },
        "id": "U0YGVqhdA-Wa",
        "outputId": "e1e66770-85c7-4b17-8b44-01ab87d916f5"
      },
      "execution_count": null,
      "outputs": [
        {
          "output_type": "stream",
          "name": "stdout",
          "text": [
            "Steps per epoch:  937\n",
            "937/937 [==============================] - 92s 98ms/step - loss: 0.0572 - accuracy: 0.9829 - val_loss: 0.0530 - val_accuracy: 0.9854\n"
          ]
        }
      ]
    },
    {
      "cell_type": "code",
      "source": [
        ""
      ],
      "metadata": {
        "id": "8L8sQAYO52bp"
      },
      "execution_count": null,
      "outputs": []
    },
    {
      "cell_type": "code",
      "source": [
        ""
      ],
      "metadata": {
        "id": "X8An5ILT5s5a"
      },
      "execution_count": null,
      "outputs": []
    },
    {
      "cell_type": "markdown",
      "source": [
        "# B - Do various experiments with weights and biases of hyperparameters in weights and biases of various optimizers, layer depth width, learning rate etc.,. both in keras and pytorch"
      ],
      "metadata": {
        "id": "qRkYIl2pD7U_"
      }
    },
    {
      "cell_type": "markdown",
      "source": [
        "reference: https://colab.research.google.com/github/wandb/examples/blob/master/colabs/pytorch/Organizing_Hyperparameter_Sweeps_in_PyTorch_with_W%26B.ipynb"
      ],
      "metadata": {
        "id": "xcggBtzkKPFD"
      }
    },
    {
      "cell_type": "code",
      "source": [
        "%%capture\n",
        "!pip install wandb --upgrade\n",
        "\n",
        "# workaround to fetch MNIST data\n",
        "!wget www.di.ens.fr/~lelarge/MNIST.tar.gz\n",
        "!tar -zxvf MNIST.tar.gz"
      ],
      "metadata": {
        "id": "Ll8Q3TrSKwFy"
      },
      "execution_count": 1,
      "outputs": []
    },
    {
      "cell_type": "code",
      "source": [
        "import wandb\n",
        "\n",
        "#wandb.login()"
      ],
      "metadata": {
        "id": "NkeJF5_0Kx90"
      },
      "execution_count": 3,
      "outputs": []
    },
    {
      "cell_type": "code",
      "source": [
        "sweep_config = {\n",
        "    'method': 'random'\n",
        "    }"
      ],
      "metadata": {
        "id": "FQKDvi1ELQnS"
      },
      "execution_count": 4,
      "outputs": []
    },
    {
      "cell_type": "code",
      "source": [
        "parameters_dict = {\n",
        "    'optimizer': {\n",
        "        'values': ['adam', 'sgd']\n",
        "        },\n",
        "    'fc_layer_size': {\n",
        "        'values': [128, 256, 512]\n",
        "        },\n",
        "    'dropout': {\n",
        "          'values': [0.3, 0.4, 0.5]\n",
        "        },\n",
        "    }\n",
        "\n",
        "sweep_config['parameters'] = parameters_dict"
      ],
      "metadata": {
        "id": "jUIVtJBhLQqB"
      },
      "execution_count": 5,
      "outputs": []
    },
    {
      "cell_type": "code",
      "source": [
        "parameters_dict.update({\n",
        "    'epochs': {\n",
        "        'value': 1}\n",
        "    })"
      ],
      "metadata": {
        "id": "WhOEC9PELQtL"
      },
      "execution_count": 6,
      "outputs": []
    },
    {
      "cell_type": "code",
      "source": [
        "import pprint\n",
        "\n",
        "pprint.pprint(sweep_config)"
      ],
      "metadata": {
        "colab": {
          "base_uri": "https://localhost:8080/"
        },
        "id": "3Jg8ZO7LLQwK",
        "outputId": "ce50d82e-c55e-4939-943e-0ae8392ce593"
      },
      "execution_count": 7,
      "outputs": [
        {
          "output_type": "stream",
          "name": "stdout",
          "text": [
            "{'method': 'random',\n",
            " 'parameters': {'dropout': {'values': [0.3, 0.4, 0.5]},\n",
            "                'epochs': {'value': 1},\n",
            "                'fc_layer_size': {'values': [128, 256, 512]},\n",
            "                'optimizer': {'values': ['adam', 'sgd']}}}\n"
          ]
        }
      ]
    },
    {
      "cell_type": "code",
      "source": [
        "sweep_id = wandb.sweep(sweep_config, project=\"pytorch-sweeps-demo\")"
      ],
      "metadata": {
        "colab": {
          "base_uri": "https://localhost:8080/",
          "height": 125
        },
        "id": "UT4b1ZjGMZEJ",
        "outputId": "21886c7d-c7fe-4782-c5ec-62ea9415b2bb"
      },
      "execution_count": 8,
      "outputs": [
        {
          "output_type": "display_data",
          "data": {
            "text/plain": [
              "<IPython.core.display.Javascript object>"
            ],
            "application/javascript": [
              "\n",
              "        window._wandbApiKey = new Promise((resolve, reject) => {\n",
              "            function loadScript(url) {\n",
              "            return new Promise(function(resolve, reject) {\n",
              "                let newScript = document.createElement(\"script\");\n",
              "                newScript.onerror = reject;\n",
              "                newScript.onload = resolve;\n",
              "                document.body.appendChild(newScript);\n",
              "                newScript.src = url;\n",
              "            });\n",
              "            }\n",
              "            loadScript(\"https://cdn.jsdelivr.net/npm/postmate/build/postmate.min.js\").then(() => {\n",
              "            const iframe = document.createElement('iframe')\n",
              "            iframe.style.cssText = \"width:0;height:0;border:none\"\n",
              "            document.body.appendChild(iframe)\n",
              "            const handshake = new Postmate({\n",
              "                container: iframe,\n",
              "                url: 'https://wandb.ai/authorize'\n",
              "            });\n",
              "            const timeout = setTimeout(() => reject(\"Couldn't auto authenticate\"), 5000)\n",
              "            handshake.then(function(child) {\n",
              "                child.on('authorize', data => {\n",
              "                    clearTimeout(timeout)\n",
              "                    resolve(data)\n",
              "                });\n",
              "            });\n",
              "            })\n",
              "        });\n",
              "    "
            ]
          },
          "metadata": {}
        },
        {
          "output_type": "stream",
          "name": "stderr",
          "text": [
            "\u001b[34m\u001b[1mwandb\u001b[0m: You can find your API key in your browser here: https://wandb.ai/authorize\n"
          ]
        },
        {
          "name": "stdout",
          "output_type": "stream",
          "text": [
            "wandb: Paste an API key from your profile and hit enter, or press ctrl+c to quit: ··········\n"
          ]
        },
        {
          "output_type": "stream",
          "name": "stderr",
          "text": [
            "\u001b[34m\u001b[1mwandb\u001b[0m: Appending key for api.wandb.ai to your netrc file: /root/.netrc\n"
          ]
        },
        {
          "output_type": "stream",
          "name": "stdout",
          "text": [
            "Create sweep with ID: vsbjrb2p\n",
            "Sweep URL: https://wandb.ai/weifeng/pytorch-sweeps-demo/sweeps/vsbjrb2p\n"
          ]
        }
      ]
    },
    {
      "cell_type": "code",
      "source": [
        "import torch\n",
        "import torch.optim as optim\n",
        "import torch.nn.functional as F\n",
        "import torch.nn as nn\n",
        "from torchvision import datasets, transforms\n",
        "\n",
        "device = torch.device(\"cuda\" if torch.cuda.is_available() else \"cpu\")\n",
        "\n",
        "def train(config=None):\n",
        "    # Initialize a new wandb run\n",
        "    with wandb.init(config=config):\n",
        "        # If called by wandb.agent, as below,\n",
        "        # this config will be set by Sweep Controller\n",
        "        config = wandb.config\n",
        "\n",
        "        loader = build_dataset(config.batch_size)\n",
        "        network = build_network(config.fc_layer_size, config.dropout)\n",
        "        optimizer = build_optimizer(network, config.optimizer, config.learning_rate)\n",
        "\n",
        "        for epoch in range(config.epochs):\n",
        "            avg_loss = train_epoch(network, loader, optimizer)\n",
        "            wandb.log({\"loss\": avg_loss, \"epoch\": epoch})  "
      ],
      "metadata": {
        "id": "I9xuaq_jMZHR"
      },
      "execution_count": 11,
      "outputs": []
    },
    {
      "cell_type": "code",
      "source": [
        "def build_dataset(batch_size):\n",
        "   \n",
        "    transform = transforms.Compose(\n",
        "        [transforms.ToTensor(),\n",
        "         transforms.Normalize((0.1307,), (0.3081,))])\n",
        "    # download MNIST training dataset\n",
        "    dataset = datasets.MNIST(\".\", train=True, download=True,\n",
        "                             transform=transform)\n",
        "    sub_dataset = torch.utils.data.Subset(\n",
        "        dataset, indices=range(0, len(dataset), 5))\n",
        "    loader = torch.utils.data.DataLoader(sub_dataset, batch_size=batch_size)\n",
        "\n",
        "    return loader\n",
        "\n",
        "\n",
        "def build_network(fc_layer_size, dropout):\n",
        "    network = nn.Sequential(  # fully-connected, single hidden layer\n",
        "        nn.Flatten(),\n",
        "        nn.Linear(784, fc_layer_size), nn.ReLU(),\n",
        "        nn.Dropout(dropout),\n",
        "        nn.Linear(fc_layer_size, 10),\n",
        "        nn.LogSoftmax(dim=1))\n",
        "\n",
        "    return network.to(device)\n",
        "        \n",
        "\n",
        "def build_optimizer(network, optimizer, learning_rate):\n",
        "    if optimizer == \"sgd\":\n",
        "        optimizer = optim.SGD(network.parameters(),\n",
        "                              lr=learning_rate, momentum=0.9)\n",
        "    elif optimizer == \"adam\":\n",
        "        optimizer = optim.Adam(network.parameters(),\n",
        "                               lr=learning_rate)\n",
        "    return optimizer\n",
        "\n",
        "\n",
        "def train_epoch(network, loader, optimizer):\n",
        "    cumu_loss = 0\n",
        "    for _, (data, target) in enumerate(loader):\n",
        "        data, target = data.to(device), target.to(device)\n",
        "        optimizer.zero_grad()\n",
        "\n",
        "        # ➡ Forward pass\n",
        "        loss = F.nll_loss(network(data), target)\n",
        "        cumu_loss += loss.item()\n",
        "\n",
        "        # ⬅ Backward pass + weight update\n",
        "        loss.backward()\n",
        "        optimizer.step()\n",
        "\n",
        "        wandb.log({\"batch loss\": loss.item()})\n",
        "\n",
        "    return cumu_loss / len(loader)"
      ],
      "metadata": {
        "id": "VL5wKX7HLQzS"
      },
      "execution_count": 10,
      "outputs": []
    },
    {
      "cell_type": "code",
      "source": [
        "wandb.agent(sweep_id, train, count=5)"
      ],
      "metadata": {
        "colab": {
          "base_uri": "https://localhost:8080/",
          "height": 946,
          "referenced_widgets": [
            "310e4c5967ce44c6bcb3a667267778dc",
            "e3aa5f47a2c74722a1626b0e7300a80c",
            "391cfab8f8654cac83eec28fd0dfa919",
            "1ec6964db54d47b49556bdc0c5d43d96",
            "a5d0e827987c49b8ad2ffa9b90da0bb3",
            "63c73bdee5b4486599efb0a07d3aade6",
            "b8081bdb98d24c74819679e789ff320d",
            "09ca48f07da74effa1f2b3c8ee898b8a",
            "1781376315bd4ca482f03cc21476d33d",
            "b4092e14070b4a9396ac6b435b15eebd",
            "75947a2d0fbc4b81b64f0e3912b35d84",
            "dfec2530d37c4ca5af82971a99afaa70",
            "fd1c71048dc9482d941a6d4ea81907cc",
            "d3ca8b52def24eecab38bb9ed27d22ba",
            "56e98305824d4b1b8a888a0598f37917",
            "a963a4859be6404d96897a3237186271",
            "cbe05afb515d4f41a76f8895ce484cfb",
            "0f2e1d3b541c4b56a55b1a0d1b1b2118",
            "e68f351eb38640c990bc37f97bbb22fd",
            "c8b5f2fd70c34b578a9090eca4bc575a",
            "306059c94e6e4133bbbcfbbcab6a9300",
            "5ae87284c1c84e27a765784823109539",
            "b289da0ea3ad4848a9100652bba9df89",
            "4820cd5ff6474a9b8dd2f80f028f4145"
          ]
        },
        "id": "XxwY0zcxLQ2W",
        "outputId": "39617f39-3fff-4222-c97c-79a422c389ca"
      },
      "execution_count": 12,
      "outputs": [
        {
          "output_type": "stream",
          "name": "stderr",
          "text": [
            "\u001b[34m\u001b[1mwandb\u001b[0m: Agent Starting Run: 4dte1wva with config:\n",
            "\u001b[34m\u001b[1mwandb\u001b[0m: \tdropout: 0.4\n",
            "\u001b[34m\u001b[1mwandb\u001b[0m: \tepochs: 1\n",
            "\u001b[34m\u001b[1mwandb\u001b[0m: \tfc_layer_size: 256\n",
            "\u001b[34m\u001b[1mwandb\u001b[0m: \toptimizer: sgd\n",
            "\u001b[34m\u001b[1mwandb\u001b[0m: Currently logged in as: \u001b[33mweifeng\u001b[0m (use `wandb login --relogin` to force relogin)\n"
          ]
        },
        {
          "output_type": "display_data",
          "data": {
            "text/plain": [
              "<IPython.core.display.HTML object>"
            ],
            "text/html": [
              "Tracking run with wandb version 0.12.11"
            ]
          },
          "metadata": {}
        },
        {
          "output_type": "display_data",
          "data": {
            "text/plain": [
              "<IPython.core.display.HTML object>"
            ],
            "text/html": [
              "Run data is saved locally in <code>/content/wandb/run-20220401_082158-4dte1wva</code>"
            ]
          },
          "metadata": {}
        },
        {
          "output_type": "display_data",
          "data": {
            "text/plain": [
              "<IPython.core.display.HTML object>"
            ],
            "text/html": [
              "Syncing run <strong><a href=\"https://wandb.ai/weifeng/pytorch-sweeps-demo/runs/4dte1wva\" target=\"_blank\">graceful-sweep-1</a></strong> to <a href=\"https://wandb.ai/weifeng/pytorch-sweeps-demo\" target=\"_blank\">Weights & Biases</a> (<a href=\"https://wandb.me/run\" target=\"_blank\">docs</a>)<br/>Sweep page:  <a href=\"https://wandb.ai/weifeng/pytorch-sweeps-demo/sweeps/vsbjrb2p\" target=\"_blank\">https://wandb.ai/weifeng/pytorch-sweeps-demo/sweeps/vsbjrb2p</a>"
            ]
          },
          "metadata": {}
        },
        {
          "output_type": "stream",
          "name": "stdout",
          "text": [
            "\n"
          ]
        },
        {
          "output_type": "display_data",
          "data": {
            "text/plain": [
              "<IPython.core.display.HTML object>"
            ],
            "text/html": [
              "Waiting for W&B process to finish... <strong style=\"color:red\">(failed 1).</strong> Press Control-C to abort syncing."
            ]
          },
          "metadata": {}
        },
        {
          "output_type": "display_data",
          "data": {
            "text/plain": [
              "VBox(children=(Label(value='0.001 MB of 0.001 MB uploaded (0.000 MB deduped)\\r'), FloatProgress(value=1.0, max…"
            ],
            "application/vnd.jupyter.widget-view+json": {
              "version_major": 2,
              "version_minor": 0,
              "model_id": "310e4c5967ce44c6bcb3a667267778dc"
            }
          },
          "metadata": {}
        },
        {
          "output_type": "display_data",
          "data": {
            "text/plain": [
              "<IPython.core.display.HTML object>"
            ],
            "text/html": [
              "Synced <strong style=\"color:#cdcd00\">graceful-sweep-1</strong>: <a href=\"https://wandb.ai/weifeng/pytorch-sweeps-demo/runs/4dte1wva\" target=\"_blank\">https://wandb.ai/weifeng/pytorch-sweeps-demo/runs/4dte1wva</a><br/>Synced 4 W&B file(s), 0 media file(s), 0 artifact file(s) and 0 other file(s)"
            ]
          },
          "metadata": {}
        },
        {
          "output_type": "display_data",
          "data": {
            "text/plain": [
              "<IPython.core.display.HTML object>"
            ],
            "text/html": [
              "Find logs at: <code>./wandb/run-20220401_082158-4dte1wva/logs</code>"
            ]
          },
          "metadata": {}
        },
        {
          "output_type": "stream",
          "name": "stderr",
          "text": [
            "Run 4dte1wva errored: KeyError('batch_size')\n",
            "\u001b[34m\u001b[1mwandb\u001b[0m: \u001b[32m\u001b[41mERROR\u001b[0m Run 4dte1wva errored: KeyError('batch_size')\n",
            "\u001b[34m\u001b[1mwandb\u001b[0m: Agent Starting Run: 9m470ibr with config:\n",
            "\u001b[34m\u001b[1mwandb\u001b[0m: \tdropout: 0.5\n",
            "\u001b[34m\u001b[1mwandb\u001b[0m: \tepochs: 1\n",
            "\u001b[34m\u001b[1mwandb\u001b[0m: \tfc_layer_size: 128\n",
            "\u001b[34m\u001b[1mwandb\u001b[0m: \toptimizer: sgd\n"
          ]
        },
        {
          "output_type": "display_data",
          "data": {
            "text/plain": [
              "<IPython.core.display.HTML object>"
            ],
            "text/html": [
              "Tracking run with wandb version 0.12.11"
            ]
          },
          "metadata": {}
        },
        {
          "output_type": "display_data",
          "data": {
            "text/plain": [
              "<IPython.core.display.HTML object>"
            ],
            "text/html": [
              "Run data is saved locally in <code>/content/wandb/run-20220401_082208-9m470ibr</code>"
            ]
          },
          "metadata": {}
        },
        {
          "output_type": "display_data",
          "data": {
            "text/plain": [
              "<IPython.core.display.HTML object>"
            ],
            "text/html": [
              "Syncing run <strong><a href=\"https://wandb.ai/weifeng/pytorch-sweeps-demo/runs/9m470ibr\" target=\"_blank\">ruby-sweep-2</a></strong> to <a href=\"https://wandb.ai/weifeng/pytorch-sweeps-demo\" target=\"_blank\">Weights & Biases</a> (<a href=\"https://wandb.me/run\" target=\"_blank\">docs</a>)<br/>Sweep page:  <a href=\"https://wandb.ai/weifeng/pytorch-sweeps-demo/sweeps/vsbjrb2p\" target=\"_blank\">https://wandb.ai/weifeng/pytorch-sweeps-demo/sweeps/vsbjrb2p</a>"
            ]
          },
          "metadata": {}
        },
        {
          "output_type": "stream",
          "name": "stdout",
          "text": [
            "\n"
          ]
        },
        {
          "output_type": "display_data",
          "data": {
            "text/plain": [
              "<IPython.core.display.HTML object>"
            ],
            "text/html": [
              "Waiting for W&B process to finish... <strong style=\"color:red\">(failed 1).</strong> Press Control-C to abort syncing."
            ]
          },
          "metadata": {}
        },
        {
          "output_type": "display_data",
          "data": {
            "text/plain": [
              "VBox(children=(Label(value='0.001 MB of 0.001 MB uploaded (0.000 MB deduped)\\r'), FloatProgress(value=1.0, max…"
            ],
            "application/vnd.jupyter.widget-view+json": {
              "version_major": 2,
              "version_minor": 0,
              "model_id": "1781376315bd4ca482f03cc21476d33d"
            }
          },
          "metadata": {}
        },
        {
          "output_type": "display_data",
          "data": {
            "text/plain": [
              "<IPython.core.display.HTML object>"
            ],
            "text/html": [
              "Synced <strong style=\"color:#cdcd00\">ruby-sweep-2</strong>: <a href=\"https://wandb.ai/weifeng/pytorch-sweeps-demo/runs/9m470ibr\" target=\"_blank\">https://wandb.ai/weifeng/pytorch-sweeps-demo/runs/9m470ibr</a><br/>Synced 4 W&B file(s), 0 media file(s), 0 artifact file(s) and 0 other file(s)"
            ]
          },
          "metadata": {}
        },
        {
          "output_type": "display_data",
          "data": {
            "text/plain": [
              "<IPython.core.display.HTML object>"
            ],
            "text/html": [
              "Find logs at: <code>./wandb/run-20220401_082208-9m470ibr/logs</code>"
            ]
          },
          "metadata": {}
        },
        {
          "output_type": "stream",
          "name": "stderr",
          "text": [
            "Run 9m470ibr errored: KeyError('batch_size')\n",
            "\u001b[34m\u001b[1mwandb\u001b[0m: \u001b[32m\u001b[41mERROR\u001b[0m Run 9m470ibr errored: KeyError('batch_size')\n",
            "\u001b[34m\u001b[1mwandb\u001b[0m: Agent Starting Run: jr5ahop1 with config:\n",
            "\u001b[34m\u001b[1mwandb\u001b[0m: \tdropout: 0.5\n",
            "\u001b[34m\u001b[1mwandb\u001b[0m: \tepochs: 1\n",
            "\u001b[34m\u001b[1mwandb\u001b[0m: \tfc_layer_size: 512\n",
            "\u001b[34m\u001b[1mwandb\u001b[0m: \toptimizer: sgd\n"
          ]
        },
        {
          "output_type": "display_data",
          "data": {
            "text/plain": [
              "<IPython.core.display.HTML object>"
            ],
            "text/html": [
              "Tracking run with wandb version 0.12.11"
            ]
          },
          "metadata": {}
        },
        {
          "output_type": "display_data",
          "data": {
            "text/plain": [
              "<IPython.core.display.HTML object>"
            ],
            "text/html": [
              "Run data is saved locally in <code>/content/wandb/run-20220401_082218-jr5ahop1</code>"
            ]
          },
          "metadata": {}
        },
        {
          "output_type": "display_data",
          "data": {
            "text/plain": [
              "<IPython.core.display.HTML object>"
            ],
            "text/html": [
              "Syncing run <strong><a href=\"https://wandb.ai/weifeng/pytorch-sweeps-demo/runs/jr5ahop1\" target=\"_blank\">rose-sweep-3</a></strong> to <a href=\"https://wandb.ai/weifeng/pytorch-sweeps-demo\" target=\"_blank\">Weights & Biases</a> (<a href=\"https://wandb.me/run\" target=\"_blank\">docs</a>)<br/>Sweep page:  <a href=\"https://wandb.ai/weifeng/pytorch-sweeps-demo/sweeps/vsbjrb2p\" target=\"_blank\">https://wandb.ai/weifeng/pytorch-sweeps-demo/sweeps/vsbjrb2p</a>"
            ]
          },
          "metadata": {}
        },
        {
          "output_type": "stream",
          "name": "stdout",
          "text": [
            "\n"
          ]
        },
        {
          "output_type": "display_data",
          "data": {
            "text/plain": [
              "<IPython.core.display.HTML object>"
            ],
            "text/html": [
              "Waiting for W&B process to finish... <strong style=\"color:red\">(failed 1).</strong> Press Control-C to abort syncing."
            ]
          },
          "metadata": {}
        },
        {
          "output_type": "display_data",
          "data": {
            "text/plain": [
              "VBox(children=(Label(value='0.001 MB of 0.001 MB uploaded (0.000 MB deduped)\\r'), FloatProgress(value=1.0, max…"
            ],
            "application/vnd.jupyter.widget-view+json": {
              "version_major": 2,
              "version_minor": 0,
              "model_id": "cbe05afb515d4f41a76f8895ce484cfb"
            }
          },
          "metadata": {}
        },
        {
          "output_type": "display_data",
          "data": {
            "text/plain": [
              "<IPython.core.display.HTML object>"
            ],
            "text/html": [
              "Synced <strong style=\"color:#cdcd00\">rose-sweep-3</strong>: <a href=\"https://wandb.ai/weifeng/pytorch-sweeps-demo/runs/jr5ahop1\" target=\"_blank\">https://wandb.ai/weifeng/pytorch-sweeps-demo/runs/jr5ahop1</a><br/>Synced 4 W&B file(s), 0 media file(s), 0 artifact file(s) and 0 other file(s)"
            ]
          },
          "metadata": {}
        },
        {
          "output_type": "display_data",
          "data": {
            "text/plain": [
              "<IPython.core.display.HTML object>"
            ],
            "text/html": [
              "Find logs at: <code>./wandb/run-20220401_082218-jr5ahop1/logs</code>"
            ]
          },
          "metadata": {}
        },
        {
          "output_type": "stream",
          "name": "stderr",
          "text": [
            "Run jr5ahop1 errored: KeyError('batch_size')\n",
            "\u001b[34m\u001b[1mwandb\u001b[0m: \u001b[32m\u001b[41mERROR\u001b[0m Run jr5ahop1 errored: KeyError('batch_size')\n",
            "Detected 3 failed runs in the first 60 seconds, killing sweep.\n",
            "\u001b[34m\u001b[1mwandb\u001b[0m: \u001b[32m\u001b[41mERROR\u001b[0m Detected 3 failed runs in the first 60 seconds, killing sweep.\n",
            "\u001b[34m\u001b[1mwandb\u001b[0m: To disable this check set WANDB_AGENT_DISABLE_FLAPPING=true\n"
          ]
        }
      ]
    },
    {
      "cell_type": "markdown",
      "source": [
        "**Screenshot from my output**"
      ],
      "metadata": {
        "id": "DhTsIj6TOeMc"
      }
    },
    {
      "cell_type": "markdown",
      "source": [
        "![Untitled.png](data:image/png;base64,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)"
      ],
      "metadata": {
        "id": "3txpZppbOZ6H"
      }
    },
    {
      "cell_type": "markdown",
      "source": [
        "Link:https://wandb.ai/weifeng/pytorch-sweeps-demo/sweeps/vsbjrb2p?workspace=user-weifeng"
      ],
      "metadata": {
        "id": "ug51OGr2QF00"
      }
    },
    {
      "cell_type": "code",
      "source": [
        ""
      ],
      "metadata": {
        "id": "knhBIKZwLQ8y"
      },
      "execution_count": null,
      "outputs": []
    },
    {
      "cell_type": "markdown",
      "source": [
        "## Keras"
      ],
      "metadata": {
        "id": "n94FJqbKKBMJ"
      }
    },
    {
      "cell_type": "code",
      "source": [
        ""
      ],
      "metadata": {
        "id": "g8nn_XY25s8f"
      },
      "execution_count": null,
      "outputs": []
    },
    {
      "cell_type": "code",
      "source": [
        ""
      ],
      "metadata": {
        "id": "wN98SGQv5s_o"
      },
      "execution_count": null,
      "outputs": []
    },
    {
      "cell_type": "code",
      "source": [
        ""
      ],
      "metadata": {
        "id": "nipJuwM-5tC3"
      },
      "execution_count": null,
      "outputs": []
    },
    {
      "cell_type": "markdown",
      "source": [
        "## Pytorch"
      ],
      "metadata": {
        "id": "g5vzKXkeKESc"
      }
    },
    {
      "cell_type": "code",
      "source": [
        ""
      ],
      "metadata": {
        "id": "UDOYEUzDKGny"
      },
      "execution_count": null,
      "outputs": []
    },
    {
      "cell_type": "code",
      "source": [
        ""
      ],
      "metadata": {
        "id": "g4Hrt3o2KGqx"
      },
      "execution_count": null,
      "outputs": []
    },
    {
      "cell_type": "code",
      "source": [
        ""
      ],
      "metadata": {
        "id": "o7fxniTSKGtq"
      },
      "execution_count": null,
      "outputs": []
    },
    {
      "cell_type": "code",
      "source": [
        ""
      ],
      "metadata": {
        "id": "750vX-oaKGws"
      },
      "execution_count": null,
      "outputs": []
    },
    {
      "cell_type": "code",
      "source": [
        ""
      ],
      "metadata": {
        "id": "ZESQLuBmKGzu"
      },
      "execution_count": null,
      "outputs": []
    },
    {
      "cell_type": "code",
      "source": [
        ""
      ],
      "metadata": {
        "id": "K9xlgEcfKG2w"
      },
      "execution_count": null,
      "outputs": []
    },
    {
      "cell_type": "markdown",
      "source": [
        "# C - Do keras classifier for regression problem, image problem"
      ],
      "metadata": {
        "id": "ZCta7h6FKHLF"
      }
    },
    {
      "cell_type": "code",
      "source": [
        "import sys\n",
        "assert sys.version_info >= (3, 5)\n",
        "\n",
        "# Scikit-Learn ≥0.20 is required\n",
        "import sklearn\n",
        "assert sklearn.__version__ >= \"0.20\"\n",
        "\n",
        "try:\n",
        "    # %tensorflow_version only exists in Colab.\n",
        "    %tensorflow_version 2.x\n",
        "except Exception:\n",
        "    pass\n",
        "\n",
        "# TensorFlow ≥2.0 is required\n",
        "import tensorflow as tf\n",
        "assert tf.__version__ >= \"2.0\"\n",
        "\n",
        "# Common imports\n",
        "import numpy as np\n",
        "import os\n",
        "\n",
        "# to make this notebook's output stable across runs\n",
        "np.random.seed(42)\n",
        "\n",
        "# To plot pretty figures\n",
        "%matplotlib inline\n",
        "import matplotlib as mpl\n",
        "import matplotlib.pyplot as plt\n",
        "mpl.rc('axes', labelsize=14)\n",
        "mpl.rc('xtick', labelsize=12)\n",
        "mpl.rc('ytick', labelsize=12)\n",
        "\n",
        "# Where to save the figures\n",
        "PROJECT_ROOT_DIR = \".\"\n",
        "CHAPTER_ID = \"ann\"\n",
        "IMAGES_PATH = os.path.join(PROJECT_ROOT_DIR, \"images\", CHAPTER_ID)\n",
        "os.makedirs(IMAGES_PATH, exist_ok=True)\n",
        "\n",
        "def save_fig(fig_id, tight_layout=True, fig_extension=\"png\", resolution=300):\n",
        "    path = os.path.join(IMAGES_PATH, fig_id + \".\" + fig_extension)\n",
        "    print(\"Saving figure\", fig_id)\n",
        "    if tight_layout:\n",
        "        plt.tight_layout()\n",
        "    plt.savefig(path, format=fig_extension, dpi=resolution)"
      ],
      "metadata": {
        "id": "ht1Lb9EyPDDD"
      },
      "execution_count": 1,
      "outputs": []
    },
    {
      "cell_type": "code",
      "source": [
        "# Perceptrons\n",
        "import numpy as np\n",
        "from sklearn.datasets import load_iris\n",
        "from sklearn.linear_model import Perceptron\n",
        "\n",
        "iris = load_iris()\n",
        "X = iris.data[:, (2, 3)]  # petal length, petal width\n",
        "y = (iris.target == 0).astype(np.int)\n",
        "\n",
        "per_clf = Perceptron(max_iter=1000, tol=1e-3, random_state=42)\n",
        "per_clf.fit(X, y)\n",
        "\n",
        "y_pred = per_clf.predict([[2, 0.5]])"
      ],
      "metadata": {
        "colab": {
          "base_uri": "https://localhost:8080/"
        },
        "id": "f6soWXVnPPX3",
        "outputId": "05ae0e98-7a6d-49b2-9617-357a84e5e6cf"
      },
      "execution_count": 2,
      "outputs": [
        {
          "output_type": "stream",
          "name": "stderr",
          "text": [
            "/usr/local/lib/python3.7/dist-packages/ipykernel_launcher.py:7: DeprecationWarning: `np.int` is a deprecated alias for the builtin `int`. To silence this warning, use `int` by itself. Doing this will not modify any behavior and is safe. When replacing `np.int`, you may wish to use e.g. `np.int64` or `np.int32` to specify the precision. If you wish to review your current use, check the release note link for additional information.\n",
            "Deprecated in NumPy 1.20; for more details and guidance: https://numpy.org/devdocs/release/1.20.0-notes.html#deprecations\n",
            "  import sys\n"
          ]
        }
      ]
    },
    {
      "cell_type": "code",
      "source": [
        "y_pred"
      ],
      "metadata": {
        "colab": {
          "base_uri": "https://localhost:8080/"
        },
        "id": "BDzkLngiPPY0",
        "outputId": "94095f3e-6389-4d72-b362-4aff031606ee"
      },
      "execution_count": 3,
      "outputs": [
        {
          "output_type": "execute_result",
          "data": {
            "text/plain": [
              "array([1])"
            ]
          },
          "metadata": {},
          "execution_count": 3
        }
      ]
    },
    {
      "cell_type": "code",
      "source": [
        "a = -per_clf.coef_[0][0] / per_clf.coef_[0][1]\n",
        "b = -per_clf.intercept_ / per_clf.coef_[0][1]\n",
        "\n",
        "axes = [0, 5, 0, 2]\n",
        "\n",
        "x0, x1 = np.meshgrid(\n",
        "        np.linspace(axes[0], axes[1], 500).reshape(-1, 1),\n",
        "        np.linspace(axes[2], axes[3], 200).reshape(-1, 1),\n",
        "    )\n",
        "X_new = np.c_[x0.ravel(), x1.ravel()]\n",
        "y_predict = per_clf.predict(X_new)\n",
        "zz = y_predict.reshape(x0.shape)\n",
        "\n",
        "plt.figure(figsize=(10, 4))\n",
        "plt.plot(X[y==0, 0], X[y==0, 1], \"bs\", label=\"Not Iris-Setosa\")\n",
        "plt.plot(X[y==1, 0], X[y==1, 1], \"yo\", label=\"Iris-Setosa\")\n",
        "\n",
        "plt.plot([axes[0], axes[1]], [a * axes[0] + b, a * axes[1] + b], \"k-\", linewidth=3)\n",
        "from matplotlib.colors import ListedColormap\n",
        "custom_cmap = ListedColormap(['#9898ff', '#fafab0'])\n",
        "\n",
        "plt.contourf(x0, x1, zz, cmap=custom_cmap)\n",
        "plt.xlabel(\"Petal length\", fontsize=14)\n",
        "plt.ylabel(\"Petal width\", fontsize=14)\n",
        "plt.legend(loc=\"lower right\", fontsize=14)\n",
        "plt.axis(axes)\n",
        "\n",
        "save_fig(\"perceptron_iris_plot\")\n",
        "plt.show()"
      ],
      "metadata": {
        "colab": {
          "base_uri": "https://localhost:8080/",
          "height": 315
        },
        "id": "pv_opRE3PPZ4",
        "outputId": "b1cc5e8b-21be-465c-baaa-9df15dec1c55"
      },
      "execution_count": 4,
      "outputs": [
        {
          "output_type": "stream",
          "name": "stdout",
          "text": [
            "Saving figure perceptron_iris_plot\n"
          ]
        },
        {
          "output_type": "display_data",
          "data": {
            "text/plain": [
              "<Figure size 720x288 with 1 Axes>"
            ],
            "image/png": "[encoded data removed]"
          },
          "metadata": {
            "needs_background": "light"
          }
        }
      ]
    },
    {
      "cell_type": "code",
      "source": [
        "# Activation functions\n",
        "def sigmoid(z):\n",
        "    return 1 / (1 + np.exp(-z))\n",
        "\n",
        "def relu(z):\n",
        "    return np.maximum(0, z)\n",
        "\n",
        "def derivative(f, z, eps=0.000001):\n",
        "    return (f(z + eps) - f(z - eps))/(2 * eps)"
      ],
      "metadata": {
        "id": "7S2wWbDePPa_"
      },
      "execution_count": 5,
      "outputs": []
    },
    {
      "cell_type": "code",
      "source": [
        "z = np.linspace(-5, 5, 200)\n",
        "\n",
        "plt.figure(figsize=(11,4))\n",
        "\n",
        "plt.subplot(121)\n",
        "plt.plot(z, np.sign(z), \"r-\", linewidth=1, label=\"Step\")\n",
        "plt.plot(z, sigmoid(z), \"g--\", linewidth=2, label=\"Sigmoid\")\n",
        "plt.plot(z, np.tanh(z), \"b-\", linewidth=2, label=\"Tanh\")\n",
        "plt.plot(z, relu(z), \"m-.\", linewidth=2, label=\"ReLU\")\n",
        "plt.grid(True)\n",
        "plt.legend(loc=\"center right\", fontsize=14)\n",
        "plt.title(\"Activation functions\", fontsize=14)\n",
        "plt.axis([-5, 5, -1.2, 1.2])\n",
        "\n",
        "plt.subplot(122)\n",
        "plt.plot(z, derivative(np.sign, z), \"r-\", linewidth=1, label=\"Step\")\n",
        "plt.plot(0, 0, \"ro\", markersize=5)\n",
        "plt.plot(0, 0, \"rx\", markersize=10)\n",
        "plt.plot(z, derivative(sigmoid, z), \"g--\", linewidth=2, label=\"Sigmoid\")\n",
        "plt.plot(z, derivative(np.tanh, z), \"b-\", linewidth=2, label=\"Tanh\")\n",
        "plt.plot(z, derivative(relu, z), \"m-.\", linewidth=2, label=\"ReLU\")\n",
        "plt.grid(True)\n",
        "#plt.legend(loc=\"center right\", fontsize=14)\n",
        "plt.title(\"Derivatives\", fontsize=14)\n",
        "plt.axis([-5, 5, -0.2, 1.2])\n",
        "\n",
        "save_fig(\"activation_functions_plot\")\n",
        "plt.show()"
      ],
      "metadata": {
        "colab": {
          "base_uri": "https://localhost:8080/",
          "height": 315
        },
        "id": "YdDA0vVPPPd6",
        "outputId": "2194209c-5d8a-4cd2-cdc1-c471b34e3958"
      },
      "execution_count": 6,
      "outputs": [
        {
          "output_type": "stream",
          "name": "stdout",
          "text": [
            "Saving figure activation_functions_plot\n"
          ]
        },
        {
          "output_type": "display_data",
          "data": {
            "text/plain": [
              "<Figure size 792x288 with 2 Axes>"
            ],
            "image/png": "[encoded data removed]"
          },
          "metadata": {
            "needs_background": "light"
          }
        }
      ]
    },
    {
      "cell_type": "code",
      "source": [
        "def heaviside(z):\n",
        "    return (z >= 0).astype(z.dtype)\n",
        "\n",
        "def mlp_xor(x1, x2, activation=heaviside):\n",
        "    return activation(-activation(x1 + x2 - 1.5) + activation(x1 + x2 - 0.5) - 0.5)"
      ],
      "metadata": {
        "id": "RSLTcCJjPPhE"
      },
      "execution_count": 7,
      "outputs": []
    },
    {
      "cell_type": "code",
      "source": [
        "x1s = np.linspace(-0.2, 1.2, 100)\n",
        "x2s = np.linspace(-0.2, 1.2, 100)\n",
        "x1, x2 = np.meshgrid(x1s, x2s)\n",
        "\n",
        "z1 = mlp_xor(x1, x2, activation=heaviside)\n",
        "z2 = mlp_xor(x1, x2, activation=sigmoid)\n",
        "\n",
        "plt.figure(figsize=(10,4))\n",
        "\n",
        "plt.subplot(121)\n",
        "plt.contourf(x1, x2, z1)\n",
        "plt.plot([0, 1], [0, 1], \"gs\", markersize=20)\n",
        "plt.plot([0, 1], [1, 0], \"y^\", markersize=20)\n",
        "plt.title(\"Activation function: heaviside\", fontsize=14)\n",
        "plt.grid(True)\n",
        "\n",
        "plt.subplot(122)\n",
        "plt.contourf(x1, x2, z2)\n",
        "plt.plot([0, 1], [0, 1], \"gs\", markersize=20)\n",
        "plt.plot([0, 1], [1, 0], \"y^\", markersize=20)\n",
        "plt.title(\"Activation function: sigmoid\", fontsize=14)\n",
        "plt.grid(True)"
      ],
      "metadata": {
        "colab": {
          "base_uri": "https://localhost:8080/",
          "height": 285
        },
        "id": "xDlNsx_QPPjy",
        "outputId": "6c23373d-ea2d-4c76-ef8f-3596e4a15563"
      },
      "execution_count": 8,
      "outputs": [
        {
          "output_type": "display_data",
          "data": {
            "text/plain": [
              "<Figure size 720x288 with 2 Axes>"
            ],
            "image/png": "[encoded data removed]"
          },
          "metadata": {
            "needs_background": "light"
          }
        }
      ]
    },
    {
      "cell_type": "code",
      "source": [
        ""
      ],
      "metadata": {
        "id": "thnlvNcJPDGR"
      },
      "execution_count": null,
      "outputs": []
    },
    {
      "cell_type": "markdown",
      "source": [
        "## Image Classifier"
      ],
      "metadata": {
        "id": "opRKZsWoREYF"
      }
    },
    {
      "cell_type": "code",
      "source": [
        "import tensorflow as tf\n",
        "from tensorflow import keras"
      ],
      "metadata": {
        "id": "zdzJXq8YPDKH"
      },
      "execution_count": 9,
      "outputs": []
    },
    {
      "cell_type": "code",
      "source": [
        "fashion_mnist = keras.datasets.fashion_mnist\n",
        "(X_train_full, y_train_full), (X_test, y_test) = fashion_mnist.load_data()"
      ],
      "metadata": {
        "colab": {
          "base_uri": "https://localhost:8080/"
        },
        "id": "86nBDRJcPOwg",
        "outputId": "3544f11b-21f8-45f1-99ee-277e28a5a805"
      },
      "execution_count": 10,
      "outputs": [
        {
          "output_type": "stream",
          "name": "stdout",
          "text": [
            "Downloading data from https://storage.googleapis.com/tensorflow/tf-keras-datasets/train-labels-idx1-ubyte.gz\n",
            "32768/29515 [=================================] - 0s 0us/step\n",
            "40960/29515 [=========================================] - 0s 0us/step\n",
            "Downloading data from https://storage.googleapis.com/tensorflow/tf-keras-datasets/train-images-idx3-ubyte.gz\n",
            "26427392/26421880 [==============================] - 0s 0us/step\n",
            "26435584/26421880 [==============================] - 0s 0us/step\n",
            "Downloading data from https://storage.googleapis.com/tensorflow/tf-keras-datasets/t10k-labels-idx1-ubyte.gz\n",
            "16384/5148 [===============================================================================================] - 0s 0us/step\n",
            "Downloading data from https://storage.googleapis.com/tensorflow/tf-keras-datasets/t10k-images-idx3-ubyte.gz\n",
            "4423680/4422102 [==============================] - 0s 0us/step\n",
            "4431872/4422102 [==============================] - 0s 0us/step\n"
          ]
        }
      ]
    },
    {
      "cell_type": "code",
      "source": [
        "X_train_full.shape"
      ],
      "metadata": {
        "colab": {
          "base_uri": "https://localhost:8080/"
        },
        "id": "E2SP7xs2POzT",
        "outputId": "28da1953-fe75-43b6-90ca-724dca2edc14"
      },
      "execution_count": 11,
      "outputs": [
        {
          "output_type": "execute_result",
          "data": {
            "text/plain": [
              "(60000, 28, 28)"
            ]
          },
          "metadata": {},
          "execution_count": 11
        }
      ]
    },
    {
      "cell_type": "code",
      "source": [
        "X_train_full.dtype"
      ],
      "metadata": {
        "colab": {
          "base_uri": "https://localhost:8080/"
        },
        "id": "qUieMrqAPO2Q",
        "outputId": "2e0f5145-0964-46e8-9f01-3c49d9464fad"
      },
      "execution_count": 12,
      "outputs": [
        {
          "output_type": "execute_result",
          "data": {
            "text/plain": [
              "dtype('uint8')"
            ]
          },
          "metadata": {},
          "execution_count": 12
        }
      ]
    },
    {
      "cell_type": "code",
      "source": [
        "X_valid, X_train = X_train_full[:5000] / 255., X_train_full[5000:] / 255.\n",
        "y_valid, y_train = y_train_full[:5000], y_train_full[5000:]\n",
        "X_test = X_test / 255."
      ],
      "metadata": {
        "id": "svqbq_h8PO5Y"
      },
      "execution_count": 13,
      "outputs": []
    },
    {
      "cell_type": "code",
      "source": [
        "plt.imshow(X_train[0], cmap=\"binary\")\n",
        "plt.axis('off')\n",
        "plt.show()"
      ],
      "metadata": {
        "colab": {
          "base_uri": "https://localhost:8080/",
          "height": 248
        },
        "id": "tVAo9MAdPO8L",
        "outputId": "79a0a8d7-9ffe-4924-8f02-e28e316d5f26"
      },
      "execution_count": 14,
      "outputs": [
        {
          "output_type": "display_data",
          "data": {
            "text/plain": [
              "<Figure size 432x288 with 1 Axes>"
            ],
            "image/png": "[encoded data removed]"
          },
          "metadata": {
            "needs_background": "light"
          }
        }
      ]
    },
    {
      "cell_type": "code",
      "source": [
        "y_train"
      ],
      "metadata": {
        "colab": {
          "base_uri": "https://localhost:8080/"
        },
        "id": "7MCbQv6YRUJc",
        "outputId": "f8a6103c-95ff-4b87-ee9a-4abf44b1e4d2"
      },
      "execution_count": 15,
      "outputs": [
        {
          "output_type": "execute_result",
          "data": {
            "text/plain": [
              "array([4, 0, 7, ..., 3, 0, 5], dtype=uint8)"
            ]
          },
          "metadata": {},
          "execution_count": 15
        }
      ]
    },
    {
      "cell_type": "code",
      "source": [
        "class_names = [\"T-shirt/top\", \"Trouser\", \"Pullover\", \"Dress\", \"Coat\",\n",
        "               \"Sandal\", \"Shirt\", \"Sneaker\", \"Bag\", \"Ankle boot\"]"
      ],
      "metadata": {
        "id": "yOkBooctRUMQ"
      },
      "execution_count": 16,
      "outputs": []
    },
    {
      "cell_type": "code",
      "source": [
        "class_names[y_train[0]]"
      ],
      "metadata": {
        "colab": {
          "base_uri": "https://localhost:8080/",
          "height": 35
        },
        "id": "Q3XC4l4IRUPQ",
        "outputId": "ffaa353a-26cf-4ba6-dc67-5f559f2ecca5"
      },
      "execution_count": 17,
      "outputs": [
        {
          "output_type": "execute_result",
          "data": {
            "text/plain": [
              "'Coat'"
            ],
            "application/vnd.google.colaboratory.intrinsic+json": {
              "type": "string"
            }
          },
          "metadata": {},
          "execution_count": 17
        }
      ]
    },
    {
      "cell_type": "code",
      "source": [
        "X_valid.shape"
      ],
      "metadata": {
        "colab": {
          "base_uri": "https://localhost:8080/"
        },
        "id": "fa1qIhWfRaCa",
        "outputId": "54fc39e2-d508-437a-b189-6bba44b8b761"
      },
      "execution_count": 18,
      "outputs": [
        {
          "output_type": "execute_result",
          "data": {
            "text/plain": [
              "(5000, 28, 28)"
            ]
          },
          "metadata": {},
          "execution_count": 18
        }
      ]
    },
    {
      "cell_type": "code",
      "source": [
        "X_test.shape"
      ],
      "metadata": {
        "colab": {
          "base_uri": "https://localhost:8080/"
        },
        "id": "81UxmFHJRUSQ",
        "outputId": "dc61dfd4-f57b-4324-ac8a-83f7bf890fc7"
      },
      "execution_count": 19,
      "outputs": [
        {
          "output_type": "execute_result",
          "data": {
            "text/plain": [
              "(10000, 28, 28)"
            ]
          },
          "metadata": {},
          "execution_count": 19
        }
      ]
    },
    {
      "cell_type": "code",
      "source": [
        "model = keras.models.Sequential()\n",
        "model.add(keras.layers.Flatten(input_shape=[28, 28]))\n",
        "model.add(keras.layers.Dense(300, activation=\"relu\"))\n",
        "model.add(keras.layers.Dense(100, activation=\"relu\"))\n",
        "model.add(keras.layers.Dense(10, activation=\"softmax\"))"
      ],
      "metadata": {
        "id": "i5dAeS1aRUVu"
      },
      "execution_count": 20,
      "outputs": []
    },
    {
      "cell_type": "code",
      "source": [
        "keras.backend.clear_session()\n",
        "np.random.seed(42)\n",
        "tf.random.set_seed(42)"
      ],
      "metadata": {
        "id": "mWfVUwlwRjjl"
      },
      "execution_count": 21,
      "outputs": []
    },
    {
      "cell_type": "code",
      "source": [
        "model = keras.models.Sequential([\n",
        "    keras.layers.Flatten(input_shape=[28, 28]),\n",
        "    keras.layers.Dense(300, activation=\"relu\"),\n",
        "    keras.layers.Dense(100, activation=\"relu\"),\n",
        "    keras.layers.Dense(10, activation=\"softmax\")\n",
        "])"
      ],
      "metadata": {
        "id": "LJtzPlkiRjmf"
      },
      "execution_count": 22,
      "outputs": []
    },
    {
      "cell_type": "code",
      "source": [
        "model.layers"
      ],
      "metadata": {
        "colab": {
          "base_uri": "https://localhost:8080/"
        },
        "id": "gC92EqjzRjph",
        "outputId": "0ff4dc7d-2640-49d1-a1e9-038b4a196ab9"
      },
      "execution_count": 23,
      "outputs": [
        {
          "output_type": "execute_result",
          "data": {
            "text/plain": [
              "[<keras.layers.core.flatten.Flatten at 0x7fce25c7f590>,\n",
              " <keras.layers.core.dense.Dense at 0x7fce21b4af90>,\n",
              " <keras.layers.core.dense.Dense at 0x7fce21b586d0>,\n",
              " <keras.layers.core.dense.Dense at 0x7fce21b58650>]"
            ]
          },
          "metadata": {},
          "execution_count": 23
        }
      ]
    },
    {
      "cell_type": "code",
      "source": [
        "model.summary()"
      ],
      "metadata": {
        "colab": {
          "base_uri": "https://localhost:8080/"
        },
        "id": "58gwCrzsRjsd",
        "outputId": "50a49f58-fab1-41f3-966c-1ee3926ca4d9"
      },
      "execution_count": 24,
      "outputs": [
        {
          "output_type": "stream",
          "name": "stdout",
          "text": [
            "Model: \"sequential\"\n",
            "_________________________________________________________________\n",
            " Layer (type)                Output Shape              Param #   \n",
            "=================================================================\n",
            " flatten (Flatten)           (None, 784)               0         \n",
            "                                                                 \n",
            " dense (Dense)               (None, 300)               235500    \n",
            "                                                                 \n",
            " dense_1 (Dense)             (None, 100)               30100     \n",
            "                                                                 \n",
            " dense_2 (Dense)             (None, 10)                1010      \n",
            "                                                                 \n",
            "=================================================================\n",
            "Total params: 266,610\n",
            "Trainable params: 266,610\n",
            "Non-trainable params: 0\n",
            "_________________________________________________________________\n"
          ]
        }
      ]
    },
    {
      "cell_type": "code",
      "source": [
        "keras.utils.plot_model(model, \"my_fashion_mnist_model.png\", show_shapes=True)"
      ],
      "metadata": {
        "colab": {
          "base_uri": "https://localhost:8080/",
          "height": 533
        },
        "id": "VmamdbGkRjvi",
        "outputId": "b1b5f1c0-6202-4ef9-a495-1c209fd29687"
      },
      "execution_count": 25,
      "outputs": [
        {
          "output_type": "execute_result",
          "data": {
            "text/plain": [
              "<IPython.core.display.Image object>"
            ],
            "image/png": "[encoded data removed]"
          },
          "metadata": {},
          "execution_count": 25
        }
      ]
    },
    {
      "cell_type": "code",
      "source": [
        "hidden1 = model.layers[1]\n",
        "hidden1.name"
      ],
      "metadata": {
        "colab": {
          "base_uri": "https://localhost:8080/",
          "height": 35
        },
        "id": "X7tGci7TR9sG",
        "outputId": "853026ee-9c86-4784-dc2d-81469c20d450"
      },
      "execution_count": 27,
      "outputs": [
        {
          "output_type": "execute_result",
          "data": {
            "text/plain": [
              "'dense'"
            ],
            "application/vnd.google.colaboratory.intrinsic+json": {
              "type": "string"
            }
          },
          "metadata": {},
          "execution_count": 27
        }
      ]
    },
    {
      "cell_type": "code",
      "source": [
        "model.get_layer(hidden1.name) is hidden1"
      ],
      "metadata": {
        "colab": {
          "base_uri": "https://localhost:8080/"
        },
        "id": "TIaFgrjdR9vB",
        "outputId": "02efbd83-6c56-45f4-e296-13a8a36f1a42"
      },
      "execution_count": 28,
      "outputs": [
        {
          "output_type": "execute_result",
          "data": {
            "text/plain": [
              "True"
            ]
          },
          "metadata": {},
          "execution_count": 28
        }
      ]
    },
    {
      "cell_type": "code",
      "source": [
        "weights, biases = hidden1.get_weights()"
      ],
      "metadata": {
        "id": "Q1G9D6FtPO-4"
      },
      "execution_count": 29,
      "outputs": []
    },
    {
      "cell_type": "code",
      "source": [
        "weights.shape"
      ],
      "metadata": {
        "colab": {
          "base_uri": "https://localhost:8080/"
        },
        "id": "QZvrNjIPSApm",
        "outputId": "6eabf1ab-5a03-4456-9c0f-5c03aa658c5e"
      },
      "execution_count": 30,
      "outputs": [
        {
          "output_type": "execute_result",
          "data": {
            "text/plain": [
              "(784, 300)"
            ]
          },
          "metadata": {},
          "execution_count": 30
        }
      ]
    },
    {
      "cell_type": "code",
      "source": [
        "biases.shape"
      ],
      "metadata": {
        "colab": {
          "base_uri": "https://localhost:8080/"
        },
        "id": "Wb9gB-2OSAsJ",
        "outputId": "068ca386-2ab2-4370-dffd-95351c01af34"
      },
      "execution_count": 31,
      "outputs": [
        {
          "output_type": "execute_result",
          "data": {
            "text/plain": [
              "(300,)"
            ]
          },
          "metadata": {},
          "execution_count": 31
        }
      ]
    },
    {
      "cell_type": "code",
      "source": [
        "model.compile(loss=\"sparse_categorical_crossentropy\",\n",
        "              optimizer=\"sgd\",\n",
        "              metrics=[\"accuracy\"])"
      ],
      "metadata": {
        "id": "mPisLndISAvT"
      },
      "execution_count": 32,
      "outputs": []
    },
    {
      "cell_type": "code",
      "source": [
        "history = model.fit(X_train, y_train, epochs=30,\n",
        "                    validation_data=(X_valid, y_valid))"
      ],
      "metadata": {
        "colab": {
          "base_uri": "https://localhost:8080/"
        },
        "id": "neRBEWUJSAxv",
        "outputId": "8e0c5dde-aec1-43fb-963b-cb1b3ff78e64"
      },
      "execution_count": 33,
      "outputs": [
        {
          "output_type": "stream",
          "name": "stdout",
          "text": [
            "Epoch 1/30\n",
            "1719/1719 [==============================] - 9s 4ms/step - loss: 0.7237 - accuracy: 0.7643 - val_loss: 0.5213 - val_accuracy: 0.8226\n",
            "Epoch 2/30\n",
            "1719/1719 [==============================] - 8s 5ms/step - loss: 0.4842 - accuracy: 0.8318 - val_loss: 0.4353 - val_accuracy: 0.8526\n",
            "Epoch 3/30\n",
            "1719/1719 [==============================] - 7s 4ms/step - loss: 0.4391 - accuracy: 0.8457 - val_loss: 0.5333 - val_accuracy: 0.7988\n",
            "Epoch 4/30\n",
            "1719/1719 [==============================] - 6s 4ms/step - loss: 0.4123 - accuracy: 0.8564 - val_loss: 0.3916 - val_accuracy: 0.8650\n",
            "Epoch 5/30\n",
            "1719/1719 [==============================] - 7s 4ms/step - loss: 0.3939 - accuracy: 0.8616 - val_loss: 0.3741 - val_accuracy: 0.8698\n",
            "Epoch 6/30\n",
            "1719/1719 [==============================] - 7s 4ms/step - loss: 0.3751 - accuracy: 0.8678 - val_loss: 0.3706 - val_accuracy: 0.8726\n",
            "Epoch 7/30\n",
            "1719/1719 [==============================] - 7s 4ms/step - loss: 0.3630 - accuracy: 0.8715 - val_loss: 0.3621 - val_accuracy: 0.8726\n",
            "Epoch 8/30\n",
            "1719/1719 [==============================] - 7s 4ms/step - loss: 0.3515 - accuracy: 0.8752 - val_loss: 0.3855 - val_accuracy: 0.8626\n",
            "Epoch 9/30\n",
            "1719/1719 [==============================] - 7s 4ms/step - loss: 0.3413 - accuracy: 0.8792 - val_loss: 0.3575 - val_accuracy: 0.8718\n",
            "Epoch 10/30\n",
            "1719/1719 [==============================] - 7s 4ms/step - loss: 0.3318 - accuracy: 0.8822 - val_loss: 0.3423 - val_accuracy: 0.8774\n",
            "Epoch 11/30\n",
            "1719/1719 [==============================] - 7s 4ms/step - loss: 0.3238 - accuracy: 0.8838 - val_loss: 0.3449 - val_accuracy: 0.8776\n",
            "Epoch 12/30\n",
            "1719/1719 [==============================] - 7s 4ms/step - loss: 0.3147 - accuracy: 0.8867 - val_loss: 0.3306 - val_accuracy: 0.8808\n",
            "Epoch 13/30\n",
            "1719/1719 [==============================] - 9s 5ms/step - loss: 0.3078 - accuracy: 0.8894 - val_loss: 0.3265 - val_accuracy: 0.8880\n",
            "Epoch 14/30\n",
            "1719/1719 [==============================] - 13s 8ms/step - loss: 0.3019 - accuracy: 0.8915 - val_loss: 0.3422 - val_accuracy: 0.8774\n",
            "Epoch 15/30\n",
            "1719/1719 [==============================] - 11s 6ms/step - loss: 0.2944 - accuracy: 0.8938 - val_loss: 0.3224 - val_accuracy: 0.8858\n",
            "Epoch 16/30\n",
            "1719/1719 [==============================] - 9s 5ms/step - loss: 0.2888 - accuracy: 0.8970 - val_loss: 0.3093 - val_accuracy: 0.8902\n",
            "Epoch 17/30\n",
            "1719/1719 [==============================] - 7s 4ms/step - loss: 0.2835 - accuracy: 0.8981 - val_loss: 0.3549 - val_accuracy: 0.8734\n",
            "Epoch 18/30\n",
            "1719/1719 [==============================] - 8s 5ms/step - loss: 0.2775 - accuracy: 0.9001 - val_loss: 0.3128 - val_accuracy: 0.8900\n",
            "Epoch 19/30\n",
            "1719/1719 [==============================] - 9s 5ms/step - loss: 0.2726 - accuracy: 0.9025 - val_loss: 0.3123 - val_accuracy: 0.8912\n",
            "Epoch 20/30\n",
            "1719/1719 [==============================] - 9s 5ms/step - loss: 0.2672 - accuracy: 0.9037 - val_loss: 0.3289 - val_accuracy: 0.8808\n",
            "Epoch 21/30\n",
            "1719/1719 [==============================] - 8s 5ms/step - loss: 0.2621 - accuracy: 0.9059 - val_loss: 0.3074 - val_accuracy: 0.8920\n",
            "Epoch 22/30\n",
            "1719/1719 [==============================] - 10s 6ms/step - loss: 0.2575 - accuracy: 0.9075 - val_loss: 0.2955 - val_accuracy: 0.8972\n",
            "Epoch 23/30\n",
            "1719/1719 [==============================] - 9s 5ms/step - loss: 0.2533 - accuracy: 0.9084 - val_loss: 0.2995 - val_accuracy: 0.8938\n",
            "Epoch 24/30\n",
            "1719/1719 [==============================] - 7s 4ms/step - loss: 0.2482 - accuracy: 0.9100 - val_loss: 0.3089 - val_accuracy: 0.8878\n",
            "Epoch 25/30\n",
            "1719/1719 [==============================] - 8s 5ms/step - loss: 0.2441 - accuracy: 0.9124 - val_loss: 0.2975 - val_accuracy: 0.8950\n",
            "Epoch 26/30\n",
            "1719/1719 [==============================] - 7s 4ms/step - loss: 0.2403 - accuracy: 0.9137 - val_loss: 0.3066 - val_accuracy: 0.8910\n",
            "Epoch 27/30\n",
            "1719/1719 [==============================] - 9s 5ms/step - loss: 0.2361 - accuracy: 0.9155 - val_loss: 0.3025 - val_accuracy: 0.8958\n",
            "Epoch 28/30\n",
            "1719/1719 [==============================] - 7s 4ms/step - loss: 0.2326 - accuracy: 0.9166 - val_loss: 0.2996 - val_accuracy: 0.8946\n",
            "Epoch 29/30\n",
            "1719/1719 [==============================] - 7s 4ms/step - loss: 0.2282 - accuracy: 0.9189 - val_loss: 0.3055 - val_accuracy: 0.8906\n",
            "Epoch 30/30\n",
            "1719/1719 [==============================] - 7s 4ms/step - loss: 0.2247 - accuracy: 0.9199 - val_loss: 0.3026 - val_accuracy: 0.8928\n"
          ]
        }
      ]
    },
    {
      "cell_type": "code",
      "source": [
        "history.params"
      ],
      "metadata": {
        "colab": {
          "base_uri": "https://localhost:8080/"
        },
        "id": "bg34SY_sR4u2",
        "outputId": "8886d1cd-c1df-4cdd-ad98-1e364beef417"
      },
      "execution_count": 34,
      "outputs": [
        {
          "output_type": "execute_result",
          "data": {
            "text/plain": [
              "{'epochs': 30, 'steps': 1719, 'verbose': 1}"
            ]
          },
          "metadata": {},
          "execution_count": 34
        }
      ]
    },
    {
      "cell_type": "code",
      "source": [
        "history.history.keys()"
      ],
      "metadata": {
        "colab": {
          "base_uri": "https://localhost:8080/"
        },
        "id": "LDWcyXnoR4xr",
        "outputId": "6cad108e-b578-45b4-b9f9-b3657c80e9e4"
      },
      "execution_count": 35,
      "outputs": [
        {
          "output_type": "execute_result",
          "data": {
            "text/plain": [
              "dict_keys(['loss', 'accuracy', 'val_loss', 'val_accuracy'])"
            ]
          },
          "metadata": {},
          "execution_count": 35
        }
      ]
    },
    {
      "cell_type": "code",
      "source": [
        "import pandas as pd\n",
        "\n",
        "pd.DataFrame(history.history).plot(figsize=(8, 5))\n",
        "plt.grid(True)\n",
        "plt.gca().set_ylim(0, 1)\n",
        "save_fig(\"keras_learning_curves_plot\")\n",
        "plt.show()"
      ],
      "metadata": {
        "colab": {
          "base_uri": "https://localhost:8080/",
          "height": 387
        },
        "id": "pATX58mSR40p",
        "outputId": "85eb68c5-ec38-4ebf-c3fe-a131e5791879"
      },
      "execution_count": 36,
      "outputs": [
        {
          "output_type": "stream",
          "name": "stdout",
          "text": [
            "Saving figure keras_learning_curves_plot\n"
          ]
        },
        {
          "output_type": "display_data",
          "data": {
            "text/plain": [
              "<Figure size 576x360 with 1 Axes>"
            ],
            "image/png": "[encoded data removed]"
          },
          "metadata": {
            "needs_background": "light"
          }
        }
      ]
    },
    {
      "cell_type": "code",
      "source": [
        "model.evaluate(X_test, y_test)"
      ],
      "metadata": {
        "colab": {
          "base_uri": "https://localhost:8080/"
        },
        "id": "EHuILkDGR43T",
        "outputId": "44ea6e2e-ff61-4fb8-dcca-8504f217ae1b"
      },
      "execution_count": 37,
      "outputs": [
        {
          "output_type": "stream",
          "name": "stdout",
          "text": [
            "313/313 [==============================] - 1s 3ms/step - loss: 0.3366 - accuracy: 0.8820\n"
          ]
        },
        {
          "output_type": "execute_result",
          "data": {
            "text/plain": [
              "[0.3366333842277527, 0.8820000290870667]"
            ]
          },
          "metadata": {},
          "execution_count": 37
        }
      ]
    },
    {
      "cell_type": "code",
      "source": [
        "X_new = X_test[:3]\n",
        "y_proba = model.predict(X_new)\n",
        "y_proba.round(2)"
      ],
      "metadata": {
        "colab": {
          "base_uri": "https://localhost:8080/"
        },
        "id": "MTZf8ATOR46F",
        "outputId": "c3dc2c9f-9575-4477-bc65-1b6f04e3246a"
      },
      "execution_count": 38,
      "outputs": [
        {
          "output_type": "execute_result",
          "data": {
            "text/plain": [
              "array([[0.  , 0.  , 0.  , 0.  , 0.  , 0.01, 0.  , 0.03, 0.  , 0.96],\n",
              "       [0.  , 0.  , 0.99, 0.  , 0.01, 0.  , 0.  , 0.  , 0.  , 0.  ],\n",
              "       [0.  , 1.  , 0.  , 0.  , 0.  , 0.  , 0.  , 0.  , 0.  , 0.  ]],\n",
              "      dtype=float32)"
            ]
          },
          "metadata": {},
          "execution_count": 38
        }
      ]
    },
    {
      "cell_type": "code",
      "source": [
        "#y_pred = model.predict_classes(X_new) # deprecated\n",
        "y_pred = np.argmax(model.predict(X_new), axis=-1)\n",
        "y_pred"
      ],
      "metadata": {
        "colab": {
          "base_uri": "https://localhost:8080/"
        },
        "id": "AMUUk9OjR489",
        "outputId": "85b19f65-7b48-416d-ea5b-697793d1c1e3"
      },
      "execution_count": 39,
      "outputs": [
        {
          "output_type": "execute_result",
          "data": {
            "text/plain": [
              "array([9, 2, 1])"
            ]
          },
          "metadata": {},
          "execution_count": 39
        }
      ]
    },
    {
      "cell_type": "code",
      "source": [
        "np.array(class_names)[y_pred]"
      ],
      "metadata": {
        "colab": {
          "base_uri": "https://localhost:8080/"
        },
        "id": "ZG0OMvePR5AR",
        "outputId": "28fb7184-392e-404f-81f3-267ff986789a"
      },
      "execution_count": 40,
      "outputs": [
        {
          "output_type": "execute_result",
          "data": {
            "text/plain": [
              "array(['Ankle boot', 'Pullover', 'Trouser'], dtype='<U11')"
            ]
          },
          "metadata": {},
          "execution_count": 40
        }
      ]
    },
    {
      "cell_type": "code",
      "source": [
        "y_new = y_test[:3]\n",
        "y_new"
      ],
      "metadata": {
        "colab": {
          "base_uri": "https://localhost:8080/"
        },
        "id": "aowgzf3pR5Ct",
        "outputId": "96ce7b64-ab72-43b0-d2f5-ab2715383ffb"
      },
      "execution_count": 41,
      "outputs": [
        {
          "output_type": "execute_result",
          "data": {
            "text/plain": [
              "array([9, 2, 1], dtype=uint8)"
            ]
          },
          "metadata": {},
          "execution_count": 41
        }
      ]
    },
    {
      "cell_type": "code",
      "source": [
        "plt.figure(figsize=(7.2, 2.4))\n",
        "for index, image in enumerate(X_new):\n",
        "    plt.subplot(1, 3, index + 1)\n",
        "    plt.imshow(image, cmap=\"binary\", interpolation=\"nearest\")\n",
        "    plt.axis('off')\n",
        "    plt.title(class_names[y_test[index]], fontsize=12)\n",
        "plt.subplots_adjust(wspace=0.2, hspace=0.5)\n",
        "save_fig('fashion_mnist_images_plot', tight_layout=False)\n",
        "plt.show()"
      ],
      "metadata": {
        "colab": {
          "base_uri": "https://localhost:8080/",
          "height": 183
        },
        "id": "mJA4WoSNSyPJ",
        "outputId": "bd9f2841-810d-48be-f99b-05961996b8e2"
      },
      "execution_count": 42,
      "outputs": [
        {
          "output_type": "stream",
          "name": "stdout",
          "text": [
            "Saving figure fashion_mnist_images_plot\n"
          ]
        },
        {
          "output_type": "display_data",
          "data": {
            "text/plain": [
              "<Figure size 518.4x172.8 with 3 Axes>"
            ],
            "image/png": "[encoded data removed]"
          },
          "metadata": {
            "needs_background": "light"
          }
        }
      ]
    },
    {
      "cell_type": "code",
      "source": [
        ""
      ],
      "metadata": {
        "id": "1tHCgseySyR1"
      },
      "execution_count": null,
      "outputs": []
    },
    {
      "cell_type": "markdown",
      "source": [
        "## Regression MLP"
      ],
      "metadata": {
        "id": "rzDRzcEiS-H3"
      }
    },
    {
      "cell_type": "code",
      "source": [
        "from sklearn.datasets import fetch_california_housing\n",
        "from sklearn.model_selection import train_test_split\n",
        "from sklearn.preprocessing import StandardScaler\n",
        "\n",
        "housing = fetch_california_housing()\n",
        "\n",
        "X_train_full, X_test, y_train_full, y_test = train_test_split(housing.data, housing.target, random_state=42)\n",
        "X_train, X_valid, y_train, y_valid = train_test_split(X_train_full, y_train_full, random_state=42)\n",
        "\n",
        "scaler = StandardScaler()\n",
        "X_train = scaler.fit_transform(X_train)\n",
        "X_valid = scaler.transform(X_valid)\n",
        "X_test = scaler.transform(X_test)"
      ],
      "metadata": {
        "id": "qQWGfotXSyUq"
      },
      "execution_count": 43,
      "outputs": []
    },
    {
      "cell_type": "code",
      "source": [
        "np.random.seed(42)\n",
        "tf.random.set_seed(42)"
      ],
      "metadata": {
        "id": "M394IHwVSyXU"
      },
      "execution_count": 44,
      "outputs": []
    },
    {
      "cell_type": "code",
      "source": [
        "model = keras.models.Sequential([\n",
        "    keras.layers.Dense(30, activation=\"relu\", input_shape=X_train.shape[1:]),\n",
        "    keras.layers.Dense(1)\n",
        "])\n",
        "\n",
        "model.compile(loss=\"mean_squared_error\", optimizer=keras.optimizers.SGD(learning_rate=1e-3))\n",
        "history = model.fit(X_train, y_train, epochs=20, validation_data=(X_valid, y_valid))\n",
        "mse_test = model.evaluate(X_test, y_test)\n",
        "X_new = X_test[:3]\n",
        "y_pred = model.predict(X_new)"
      ],
      "metadata": {
        "colab": {
          "base_uri": "https://localhost:8080/"
        },
        "id": "-Xhgs9pSSyZ4",
        "outputId": "eb3025f6-4728-447d-81b6-0618710f958c"
      },
      "execution_count": 45,
      "outputs": [
        {
          "output_type": "stream",
          "name": "stdout",
          "text": [
            "Epoch 1/20\n",
            "363/363 [==============================] - 1s 2ms/step - loss: 1.6419 - val_loss: 0.8560\n",
            "Epoch 2/20\n",
            "363/363 [==============================] - 1s 2ms/step - loss: 0.7047 - val_loss: 0.6531\n",
            "Epoch 3/20\n",
            "363/363 [==============================] - 1s 2ms/step - loss: 0.6345 - val_loss: 0.6099\n",
            "Epoch 4/20\n",
            "363/363 [==============================] - 1s 2ms/step - loss: 0.5977 - val_loss: 0.5658\n",
            "Epoch 5/20\n",
            "363/363 [==============================] - 1s 2ms/step - loss: 0.5706 - val_loss: 0.5355\n",
            "Epoch 6/20\n",
            "363/363 [==============================] - 1s 2ms/step - loss: 0.5472 - val_loss: 0.5173\n",
            "Epoch 7/20\n",
            "363/363 [==============================] - 1s 2ms/step - loss: 0.5288 - val_loss: 0.5081\n",
            "Epoch 8/20\n",
            "363/363 [==============================] - 1s 2ms/step - loss: 0.5130 - val_loss: 0.4799\n",
            "Epoch 9/20\n",
            "363/363 [==============================] - 1s 2ms/step - loss: 0.4992 - val_loss: 0.4690\n",
            "Epoch 10/20\n",
            "363/363 [==============================] - 1s 2ms/step - loss: 0.4875 - val_loss: 0.4656\n",
            "Epoch 11/20\n",
            "363/363 [==============================] - 1s 2ms/step - loss: 0.4777 - val_loss: 0.4482\n",
            "Epoch 12/20\n",
            "363/363 [==============================] - 1s 2ms/step - loss: 0.4688 - val_loss: 0.4479\n",
            "Epoch 13/20\n",
            "363/363 [==============================] - 1s 2ms/step - loss: 0.4615 - val_loss: 0.4296\n",
            "Epoch 14/20\n",
            "363/363 [==============================] - 1s 2ms/step - loss: 0.4547 - val_loss: 0.4233\n",
            "Epoch 15/20\n",
            "363/363 [==============================] - 1s 2ms/step - loss: 0.4488 - val_loss: 0.4176\n",
            "Epoch 16/20\n",
            "363/363 [==============================] - 1s 2ms/step - loss: 0.4435 - val_loss: 0.4123\n",
            "Epoch 17/20\n",
            "363/363 [==============================] - 1s 3ms/step - loss: 0.4389 - val_loss: 0.4071\n",
            "Epoch 18/20\n",
            "363/363 [==============================] - 1s 4ms/step - loss: 0.4347 - val_loss: 0.4037\n",
            "Epoch 19/20\n",
            "363/363 [==============================] - 1s 4ms/step - loss: 0.4306 - val_loss: 0.4000\n",
            "Epoch 20/20\n",
            "363/363 [==============================] - 2s 5ms/step - loss: 0.4273 - val_loss: 0.3969\n",
            "162/162 [==============================] - 1s 3ms/step - loss: 0.4212\n"
          ]
        }
      ]
    },
    {
      "cell_type": "code",
      "source": [
        "plt.plot(pd.DataFrame(history.history))\n",
        "plt.grid(True)\n",
        "plt.gca().set_ylim(0, 1)\n",
        "plt.show()"
      ],
      "metadata": {
        "colab": {
          "base_uri": "https://localhost:8080/",
          "height": 273
        },
        "id": "_Hest5NNSycc",
        "outputId": "aba2f803-6f03-4e5e-c671-1716e4072264"
      },
      "execution_count": 46,
      "outputs": [
        {
          "output_type": "display_data",
          "data": {
            "text/plain": [
              "<Figure size 432x288 with 1 Axes>"
            ],
            "image/png": "[encoded data removed]"
          },
          "metadata": {
            "needs_background": "light"
          }
        }
      ]
    },
    {
      "cell_type": "code",
      "source": [
        "y_pred"
      ],
      "metadata": {
        "colab": {
          "base_uri": "https://localhost:8080/"
        },
        "id": "1LqtbvLiSyfT",
        "outputId": "afdf27d0-51bc-40d6-b5c0-00d6a6859605"
      },
      "execution_count": 47,
      "outputs": [
        {
          "output_type": "execute_result",
          "data": {
            "text/plain": [
              "array([[0.38856643],\n",
              "       [1.6792021 ],\n",
              "       [3.1022797 ]], dtype=float32)"
            ]
          },
          "metadata": {},
          "execution_count": 47
        }
      ]
    },
    {
      "cell_type": "code",
      "source": [
        ""
      ],
      "metadata": {
        "id": "ijzSDbvKSyqn"
      },
      "execution_count": null,
      "outputs": []
    },
    {
      "cell_type": "markdown",
      "source": [
        "# D - use of various activation functions, dropouts, learning rate schedulers , regularization techniques like gradient clipping, batch normalization, early stopping, l1 and l2 regularizations, optimizers on simple data set"
      ],
      "metadata": {
        "id": "fUJkv8naPERg"
      }
    },
    {
      "cell_type": "markdown",
      "source": [
        "Reference: https://github.com/ageron/handson-ml2/blob/master/11_training_deep_neural_networks.ipynb "
      ],
      "metadata": {
        "id": "KGoO6IyQUE2G"
      }
    },
    {
      "cell_type": "code",
      "source": [
        "# Python ≥3.5 is required\n",
        "import sys\n",
        "assert sys.version_info >= (3, 5)\n",
        "\n",
        "# Scikit-Learn ≥0.20 is required\n",
        "import sklearn\n",
        "assert sklearn.__version__ >= \"0.20\"\n",
        "\n",
        "try:\n",
        "    # %tensorflow_version only exists in Colab.\n",
        "    %tensorflow_version 2.x\n",
        "except Exception:\n",
        "    pass\n",
        "\n",
        "# TensorFlow ≥2.0 is required\n",
        "import tensorflow as tf\n",
        "from tensorflow import keras\n",
        "assert tf.__version__ >= \"2.0\"\n",
        "\n",
        "%load_ext tensorboard\n",
        "\n",
        "# Common imports\n",
        "import numpy as np\n",
        "import os\n",
        "\n",
        "# to make this notebook's output stable across runs\n",
        "np.random.seed(42)\n",
        "\n",
        "# To plot pretty figures\n",
        "%matplotlib inline\n",
        "import matplotlib as mpl\n",
        "import matplotlib.pyplot as plt\n",
        "mpl.rc('axes', labelsize=14)\n",
        "mpl.rc('xtick', labelsize=12)\n",
        "mpl.rc('ytick', labelsize=12)\n",
        "\n",
        "# Where to save the figures\n",
        "PROJECT_ROOT_DIR = \".\"\n",
        "CHAPTER_ID = \"deep\"\n",
        "IMAGES_PATH = os.path.join(PROJECT_ROOT_DIR, \"images\", CHAPTER_ID)\n",
        "os.makedirs(IMAGES_PATH, exist_ok=True)\n",
        "\n",
        "def save_fig(fig_id, tight_layout=True, fig_extension=\"png\", resolution=300):\n",
        "    path = os.path.join(IMAGES_PATH, fig_id + \".\" + fig_extension)\n",
        "    print(\"Saving figure\", fig_id)\n",
        "    if tight_layout:\n",
        "        plt.tight_layout()\n",
        "    plt.savefig(path, format=fig_extension, dpi=resolution)"
      ],
      "metadata": {
        "id": "wBZ1e5MNTxsl"
      },
      "execution_count": 1,
      "outputs": []
    },
    {
      "cell_type": "code",
      "source": [
        "[name for name in dir(keras.initializers) if not name.startswith(\"_\")]"
      ],
      "metadata": {
        "colab": {
          "base_uri": "https://localhost:8080/"
        },
        "id": "VW1IvOw9TxvR",
        "outputId": "6a366afb-81c3-47b4-ff5d-4bc84be7d072"
      },
      "execution_count": 2,
      "outputs": [
        {
          "output_type": "execute_result",
          "data": {
            "text/plain": [
              "['Constant',\n",
              " 'GlorotNormal',\n",
              " 'GlorotUniform',\n",
              " 'HeNormal',\n",
              " 'HeUniform',\n",
              " 'Identity',\n",
              " 'Initializer',\n",
              " 'LecunNormal',\n",
              " 'LecunUniform',\n",
              " 'Ones',\n",
              " 'Orthogonal',\n",
              " 'RandomNormal',\n",
              " 'RandomUniform',\n",
              " 'TruncatedNormal',\n",
              " 'VarianceScaling',\n",
              " 'Zeros',\n",
              " 'constant',\n",
              " 'deserialize',\n",
              " 'get',\n",
              " 'glorot_normal',\n",
              " 'glorot_uniform',\n",
              " 'he_normal',\n",
              " 'he_uniform',\n",
              " 'identity',\n",
              " 'lecun_normal',\n",
              " 'lecun_uniform',\n",
              " 'ones',\n",
              " 'orthogonal',\n",
              " 'random_normal',\n",
              " 'random_uniform',\n",
              " 'serialize',\n",
              " 'truncated_normal',\n",
              " 'variance_scaling',\n",
              " 'zeros']"
            ]
          },
          "metadata": {},
          "execution_count": 2
        }
      ]
    },
    {
      "cell_type": "code",
      "source": [
        "keras.layers.Dense(10, activation=\"relu\", kernel_initializer=\"he_normal\")"
      ],
      "metadata": {
        "colab": {
          "base_uri": "https://localhost:8080/"
        },
        "id": "ZewwsaJ1TyER",
        "outputId": "bf214ce3-7f41-49a8-9a33-46e210465507"
      },
      "execution_count": 3,
      "outputs": [
        {
          "output_type": "execute_result",
          "data": {
            "text/plain": [
              "<keras.layers.core.dense.Dense at 0x7fa1489a1b10>"
            ]
          },
          "metadata": {},
          "execution_count": 3
        }
      ]
    },
    {
      "cell_type": "code",
      "source": [
        "init = keras.initializers.VarianceScaling(scale=2., mode='fan_avg',\n",
        "                                          distribution='uniform')\n",
        "keras.layers.Dense(10, activation=\"relu\", kernel_initializer=init)"
      ],
      "metadata": {
        "colab": {
          "base_uri": "https://localhost:8080/"
        },
        "id": "b8zOlPH1Txy1",
        "outputId": "e627c0e5-478c-4a9a-fdce-a3bec517c731"
      },
      "execution_count": 4,
      "outputs": [
        {
          "output_type": "execute_result",
          "data": {
            "text/plain": [
              "<keras.layers.core.dense.Dense at 0x7fa140a3a550>"
            ]
          },
          "metadata": {},
          "execution_count": 4
        }
      ]
    },
    {
      "cell_type": "code",
      "source": [
        "(X_train_full, y_train_full), (X_test, y_test) = keras.datasets.fashion_mnist.load_data()\n",
        "X_train_full = X_train_full / 255.0\n",
        "X_test = X_test / 255.0\n",
        "X_valid, X_train = X_train_full[:5000], X_train_full[5000:]\n",
        "y_valid, y_train = y_train_full[:5000], y_train_full[5000:]"
      ],
      "metadata": {
        "colab": {
          "base_uri": "https://localhost:8080/"
        },
        "id": "Y3bUn6HXTx1f",
        "outputId": "2db571c4-6a6c-465e-b3f1-4a8055d17a45"
      },
      "execution_count": 5,
      "outputs": [
        {
          "output_type": "stream",
          "name": "stdout",
          "text": [
            "Downloading data from https://storage.googleapis.com/tensorflow/tf-keras-datasets/train-labels-idx1-ubyte.gz\n",
            "32768/29515 [=================================] - 0s 0us/step\n",
            "40960/29515 [=========================================] - 0s 0us/step\n",
            "Downloading data from https://storage.googleapis.com/tensorflow/tf-keras-datasets/train-images-idx3-ubyte.gz\n",
            "26427392/26421880 [==============================] - 0s 0us/step\n",
            "26435584/26421880 [==============================] - 0s 0us/step\n",
            "Downloading data from https://storage.googleapis.com/tensorflow/tf-keras-datasets/t10k-labels-idx1-ubyte.gz\n",
            "16384/5148 [===============================================================================================] - 0s 0us/step\n",
            "Downloading data from https://storage.googleapis.com/tensorflow/tf-keras-datasets/t10k-images-idx3-ubyte.gz\n",
            "4423680/4422102 [==============================] - 0s 0us/step\n",
            "4431872/4422102 [==============================] - 0s 0us/step\n"
          ]
        }
      ]
    },
    {
      "cell_type": "markdown",
      "source": [
        "**a neural network on Fashion MNIST using the Leaky ReLU:**"
      ],
      "metadata": {
        "id": "TDKUZQX5V1Rk"
      }
    },
    {
      "cell_type": "code",
      "source": [
        "tf.random.set_seed(42)\n",
        "np.random.seed(42)\n",
        "\n",
        "model = keras.models.Sequential([\n",
        "    keras.layers.Flatten(input_shape=[28, 28]),\n",
        "    keras.layers.Dense(300, kernel_initializer=\"he_normal\"),\n",
        "    keras.layers.LeakyReLU(),\n",
        "    keras.layers.Dense(100, kernel_initializer=\"he_normal\"),\n",
        "    keras.layers.LeakyReLU(),\n",
        "    keras.layers.Dense(10, activation=\"softmax\")\n",
        "])"
      ],
      "metadata": {
        "id": "GzIOLfMFTx4R"
      },
      "execution_count": 6,
      "outputs": []
    },
    {
      "cell_type": "code",
      "source": [
        "model.compile(loss=\"sparse_categorical_crossentropy\",\n",
        "              optimizer=keras.optimizers.SGD(learning_rate=1e-3),\n",
        "              metrics=[\"accuracy\"])"
      ],
      "metadata": {
        "id": "d61k3dgeTx7O"
      },
      "execution_count": 7,
      "outputs": []
    },
    {
      "cell_type": "code",
      "source": [
        "history = model.fit(X_train, y_train, epochs=10,\n",
        "                    validation_data=(X_valid, y_valid))"
      ],
      "metadata": {
        "colab": {
          "base_uri": "https://localhost:8080/"
        },
        "id": "FYLmL2RRTyHm",
        "outputId": "5c2215e0-ce32-44d2-94ab-e3d16838dc78"
      },
      "execution_count": 8,
      "outputs": [
        {
          "output_type": "stream",
          "name": "stdout",
          "text": [
            "Epoch 1/10\n",
            "1719/1719 [==============================] - 12s 5ms/step - loss: 1.2819 - accuracy: 0.6229 - val_loss: 0.8886 - val_accuracy: 0.7160\n",
            "Epoch 2/10\n",
            "1719/1719 [==============================] - 10s 6ms/step - loss: 0.7955 - accuracy: 0.7362 - val_loss: 0.7130 - val_accuracy: 0.7656\n",
            "Epoch 3/10\n",
            "1719/1719 [==============================] - 10s 6ms/step - loss: 0.6816 - accuracy: 0.7721 - val_loss: 0.6427 - val_accuracy: 0.7900\n",
            "Epoch 4/10\n",
            "1719/1719 [==============================] - 6s 4ms/step - loss: 0.6217 - accuracy: 0.7944 - val_loss: 0.5900 - val_accuracy: 0.8066\n",
            "Epoch 5/10\n",
            "1719/1719 [==============================] - 8s 5ms/step - loss: 0.5832 - accuracy: 0.8074 - val_loss: 0.5582 - val_accuracy: 0.8202\n",
            "Epoch 6/10\n",
            "1719/1719 [==============================] - 6s 4ms/step - loss: 0.5553 - accuracy: 0.8157 - val_loss: 0.5350 - val_accuracy: 0.8238\n",
            "Epoch 7/10\n",
            "1719/1719 [==============================] - 6s 4ms/step - loss: 0.5338 - accuracy: 0.8225 - val_loss: 0.5157 - val_accuracy: 0.8304\n",
            "Epoch 8/10\n",
            "1719/1719 [==============================] - 6s 3ms/step - loss: 0.5172 - accuracy: 0.8272 - val_loss: 0.5079 - val_accuracy: 0.8280\n",
            "Epoch 9/10\n",
            "1719/1719 [==============================] - 6s 4ms/step - loss: 0.5040 - accuracy: 0.8289 - val_loss: 0.4895 - val_accuracy: 0.8386\n",
            "Epoch 10/10\n",
            "1719/1719 [==============================] - 6s 3ms/step - loss: 0.4924 - accuracy: 0.8321 - val_loss: 0.4817 - val_accuracy: 0.8396\n"
          ]
        }
      ]
    },
    {
      "cell_type": "code",
      "source": [
        ""
      ],
      "metadata": {
        "id": "PKFlZlecTyKv"
      },
      "execution_count": null,
      "outputs": []
    },
    {
      "cell_type": "markdown",
      "source": [
        "**Batch Normalization**"
      ],
      "metadata": {
        "id": "vHU7wvywWKLo"
      }
    },
    {
      "cell_type": "code",
      "source": [
        "model = keras.models.Sequential([\n",
        "    keras.layers.Flatten(input_shape=[28, 28]),\n",
        "    keras.layers.BatchNormalization(),\n",
        "    keras.layers.Dense(300, activation=\"relu\"),\n",
        "    keras.layers.BatchNormalization(),\n",
        "    keras.layers.Dense(100, activation=\"relu\"),\n",
        "    keras.layers.BatchNormalization(),\n",
        "    keras.layers.Dense(10, activation=\"softmax\")\n",
        "])"
      ],
      "metadata": {
        "id": "sUcGTozKTyNm"
      },
      "execution_count": 9,
      "outputs": []
    },
    {
      "cell_type": "code",
      "source": [
        "model.summary()"
      ],
      "metadata": {
        "colab": {
          "base_uri": "https://localhost:8080/"
        },
        "id": "IbbVasITTyQz",
        "outputId": "d4a150e7-bd4c-44c0-dd18-7f4b570be73d"
      },
      "execution_count": 10,
      "outputs": [
        {
          "output_type": "stream",
          "name": "stdout",
          "text": [
            "Model: \"sequential_1\"\n",
            "_________________________________________________________________\n",
            " Layer (type)                Output Shape              Param #   \n",
            "=================================================================\n",
            " flatten_1 (Flatten)         (None, 784)               0         \n",
            "                                                                 \n",
            " batch_normalization (BatchN  (None, 784)              3136      \n",
            " ormalization)                                                   \n",
            "                                                                 \n",
            " dense_5 (Dense)             (None, 300)               235500    \n",
            "                                                                 \n",
            " batch_normalization_1 (Batc  (None, 300)              1200      \n",
            " hNormalization)                                                 \n",
            "                                                                 \n",
            " dense_6 (Dense)             (None, 100)               30100     \n",
            "                                                                 \n",
            " batch_normalization_2 (Batc  (None, 100)              400       \n",
            " hNormalization)                                                 \n",
            "                                                                 \n",
            " dense_7 (Dense)             (None, 10)                1010      \n",
            "                                                                 \n",
            "=================================================================\n",
            "Total params: 271,346\n",
            "Trainable params: 268,978\n",
            "Non-trainable params: 2,368\n",
            "_________________________________________________________________\n"
          ]
        }
      ]
    },
    {
      "cell_type": "code",
      "source": [
        "bn1 = model.layers[1]\n",
        "[(var.name, var.trainable) for var in bn1.variables]"
      ],
      "metadata": {
        "colab": {
          "base_uri": "https://localhost:8080/"
        },
        "id": "L69ym2DKTyT2",
        "outputId": "ab18b3e7-8996-4417-fec2-ae39dd9b9f8e"
      },
      "execution_count": 11,
      "outputs": [
        {
          "output_type": "execute_result",
          "data": {
            "text/plain": [
              "[('batch_normalization/gamma:0', True),\n",
              " ('batch_normalization/beta:0', True),\n",
              " ('batch_normalization/moving_mean:0', False),\n",
              " ('batch_normalization/moving_variance:0', False)]"
            ]
          },
          "metadata": {},
          "execution_count": 11
        }
      ]
    },
    {
      "cell_type": "code",
      "source": [
        "model.compile(loss=\"sparse_categorical_crossentropy\",\n",
        "              optimizer=keras.optimizers.SGD(learning_rate=1e-3),\n",
        "              metrics=[\"accuracy\"])"
      ],
      "metadata": {
        "id": "ZEGoCFFPTyXG"
      },
      "execution_count": 12,
      "outputs": []
    },
    {
      "cell_type": "code",
      "source": [
        "history = model.fit(X_train, y_train, epochs=10,\n",
        "                    validation_data=(X_valid, y_valid))"
      ],
      "metadata": {
        "colab": {
          "base_uri": "https://localhost:8080/"
        },
        "id": "G026Qo8pTyZe",
        "outputId": "5b3be96b-360c-4b03-856f-660d9de325f4"
      },
      "execution_count": 13,
      "outputs": [
        {
          "output_type": "stream",
          "name": "stdout",
          "text": [
            "Epoch 1/10\n",
            "1719/1719 [==============================] - 12s 5ms/step - loss: 0.8293 - accuracy: 0.7221 - val_loss: 0.5539 - val_accuracy: 0.8156\n",
            "Epoch 2/10\n",
            "1719/1719 [==============================] - 12s 7ms/step - loss: 0.5703 - accuracy: 0.8036 - val_loss: 0.4792 - val_accuracy: 0.8378\n",
            "Epoch 3/10\n",
            "1719/1719 [==============================] - 14s 8ms/step - loss: 0.5161 - accuracy: 0.8214 - val_loss: 0.4425 - val_accuracy: 0.8496\n",
            "Epoch 4/10\n",
            "1719/1719 [==============================] - 9s 5ms/step - loss: 0.4789 - accuracy: 0.8315 - val_loss: 0.4213 - val_accuracy: 0.8562\n",
            "Epoch 5/10\n",
            "1719/1719 [==============================] - 9s 5ms/step - loss: 0.4548 - accuracy: 0.8405 - val_loss: 0.4052 - val_accuracy: 0.8612\n",
            "Epoch 6/10\n",
            "1719/1719 [==============================] - 9s 5ms/step - loss: 0.4387 - accuracy: 0.8445 - val_loss: 0.3932 - val_accuracy: 0.8634\n",
            "Epoch 7/10\n",
            "1719/1719 [==============================] - 9s 5ms/step - loss: 0.4255 - accuracy: 0.8504 - val_loss: 0.3830 - val_accuracy: 0.8646\n",
            "Epoch 8/10\n",
            "1719/1719 [==============================] - 9s 5ms/step - loss: 0.4124 - accuracy: 0.8539 - val_loss: 0.3760 - val_accuracy: 0.8662\n",
            "Epoch 9/10\n",
            "1719/1719 [==============================] - 9s 5ms/step - loss: 0.4027 - accuracy: 0.8579 - val_loss: 0.3690 - val_accuracy: 0.8678\n",
            "Epoch 10/10\n",
            "1719/1719 [==============================] - 9s 5ms/step - loss: 0.3925 - accuracy: 0.8614 - val_loss: 0.3630 - val_accuracy: 0.8668\n"
          ]
        }
      ]
    },
    {
      "cell_type": "code",
      "source": [
        "model = keras.models.Sequential([\n",
        "    keras.layers.Flatten(input_shape=[28, 28]),\n",
        "    keras.layers.BatchNormalization(),\n",
        "    keras.layers.Dense(300, use_bias=False),\n",
        "    keras.layers.BatchNormalization(),\n",
        "    keras.layers.Activation(\"relu\"),\n",
        "    keras.layers.Dense(100, use_bias=False),\n",
        "    keras.layers.BatchNormalization(),\n",
        "    keras.layers.Activation(\"relu\"),\n",
        "    keras.layers.Dense(10, activation=\"softmax\")\n",
        "])"
      ],
      "metadata": {
        "id": "Gx4pyiC9TyfC"
      },
      "execution_count": 14,
      "outputs": []
    },
    {
      "cell_type": "code",
      "source": [
        "model.compile(loss=\"sparse_categorical_crossentropy\",\n",
        "              optimizer=keras.optimizers.SGD(learning_rate=1e-3),\n",
        "              metrics=[\"accuracy\"])"
      ],
      "metadata": {
        "id": "kpf7PAseWa7v"
      },
      "execution_count": 15,
      "outputs": []
    },
    {
      "cell_type": "code",
      "source": [
        "history = model.fit(X_train, y_train, epochs=10,\n",
        "                    validation_data=(X_valid, y_valid))"
      ],
      "metadata": {
        "colab": {
          "base_uri": "https://localhost:8080/"
        },
        "id": "qOQyeeRMWa--",
        "outputId": "9759c121-5b77-4c51-d672-add9b7803845"
      },
      "execution_count": 16,
      "outputs": [
        {
          "output_type": "stream",
          "name": "stdout",
          "text": [
            "Epoch 1/10\n",
            "1719/1719 [==============================] - 10s 5ms/step - loss: 1.0346 - accuracy: 0.6739 - val_loss: 0.6680 - val_accuracy: 0.7884\n",
            "Epoch 2/10\n",
            "1719/1719 [==============================] - 8s 5ms/step - loss: 0.6757 - accuracy: 0.7819 - val_loss: 0.5537 - val_accuracy: 0.8212\n",
            "Epoch 3/10\n",
            "1719/1719 [==============================] - 14s 8ms/step - loss: 0.5961 - accuracy: 0.8021 - val_loss: 0.4996 - val_accuracy: 0.8352\n",
            "Epoch 4/10\n",
            "1719/1719 [==============================] - 14s 8ms/step - loss: 0.5456 - accuracy: 0.8176 - val_loss: 0.4655 - val_accuracy: 0.8458\n",
            "Epoch 5/10\n",
            "1719/1719 [==============================] - 9s 5ms/step - loss: 0.5140 - accuracy: 0.8250 - val_loss: 0.4419 - val_accuracy: 0.8510\n",
            "Epoch 6/10\n",
            "1719/1719 [==============================] - 9s 5ms/step - loss: 0.4915 - accuracy: 0.8309 - val_loss: 0.4237 - val_accuracy: 0.8540\n",
            "Epoch 7/10\n",
            "1719/1719 [==============================] - 13s 7ms/step - loss: 0.4741 - accuracy: 0.8375 - val_loss: 0.4103 - val_accuracy: 0.8582\n",
            "Epoch 8/10\n",
            "1719/1719 [==============================] - 9s 6ms/step - loss: 0.4603 - accuracy: 0.8407 - val_loss: 0.3994 - val_accuracy: 0.8628\n",
            "Epoch 9/10\n",
            "1719/1719 [==============================] - 8s 5ms/step - loss: 0.4465 - accuracy: 0.8458 - val_loss: 0.3911 - val_accuracy: 0.8640\n",
            "Epoch 10/10\n",
            "1719/1719 [==============================] - 8s 5ms/step - loss: 0.4338 - accuracy: 0.8500 - val_loss: 0.3828 - val_accuracy: 0.8682\n"
          ]
        }
      ]
    },
    {
      "cell_type": "code",
      "source": [
        ""
      ],
      "metadata": {
        "id": "aqsrkvO3WbB8"
      },
      "execution_count": null,
      "outputs": []
    },
    {
      "cell_type": "markdown",
      "source": [
        "**Reusing Pretrained Layers**"
      ],
      "metadata": {
        "id": "wejVuVUmW2Ng"
      }
    },
    {
      "cell_type": "code",
      "source": [
        "def split_dataset(X, y):\n",
        "    y_5_or_6 = (y == 5) | (y == 6) # sandals or shirts\n",
        "    y_A = y[~y_5_or_6]\n",
        "    y_A[y_A > 6] -= 2 # class indices 7, 8, 9 should be moved to 5, 6, 7\n",
        "    y_B = (y[y_5_or_6] == 6).astype(np.float32) # binary classification task: is it a shirt (class 6)?\n",
        "    return ((X[~y_5_or_6], y_A),\n",
        "            (X[y_5_or_6], y_B))\n",
        "\n",
        "(X_train_A, y_train_A), (X_train_B, y_train_B) = split_dataset(X_train, y_train)\n",
        "(X_valid_A, y_valid_A), (X_valid_B, y_valid_B) = split_dataset(X_valid, y_valid)\n",
        "(X_test_A, y_test_A), (X_test_B, y_test_B) = split_dataset(X_test, y_test)\n",
        "X_train_B = X_train_B[:200]\n",
        "y_train_B = y_train_B[:200]"
      ],
      "metadata": {
        "id": "btnVTbLEWbEx"
      },
      "execution_count": 17,
      "outputs": []
    },
    {
      "cell_type": "code",
      "source": [
        "X_train_A.shape"
      ],
      "metadata": {
        "colab": {
          "base_uri": "https://localhost:8080/"
        },
        "id": "0-4pua9CWbIH",
        "outputId": "dcc43515-fd62-4d36-f574-b142383ca892"
      },
      "execution_count": 18,
      "outputs": [
        {
          "output_type": "execute_result",
          "data": {
            "text/plain": [
              "(43986, 28, 28)"
            ]
          },
          "metadata": {},
          "execution_count": 18
        }
      ]
    },
    {
      "cell_type": "code",
      "source": [
        "X_train_B.shape"
      ],
      "metadata": {
        "colab": {
          "base_uri": "https://localhost:8080/"
        },
        "id": "OoQZ0yR1WbLS",
        "outputId": "b35f57b3-9c78-48e2-aefe-3592d0fca6bb"
      },
      "execution_count": 19,
      "outputs": [
        {
          "output_type": "execute_result",
          "data": {
            "text/plain": [
              "(200, 28, 28)"
            ]
          },
          "metadata": {},
          "execution_count": 19
        }
      ]
    },
    {
      "cell_type": "code",
      "source": [
        "tf.random.set_seed(42)\n",
        "np.random.seed(42)"
      ],
      "metadata": {
        "id": "Q25UCnPGWbNo"
      },
      "execution_count": 20,
      "outputs": []
    },
    {
      "cell_type": "code",
      "source": [
        "model_A = keras.models.Sequential()\n",
        "model_A.add(keras.layers.Flatten(input_shape=[28, 28]))\n",
        "for n_hidden in (300, 100, 50, 50, 50):\n",
        "    model_A.add(keras.layers.Dense(n_hidden, activation=\"selu\"))\n",
        "model_A.add(keras.layers.Dense(8, activation=\"softmax\"))"
      ],
      "metadata": {
        "id": "pICzK-xHXStq"
      },
      "execution_count": 21,
      "outputs": []
    },
    {
      "cell_type": "code",
      "source": [
        "model_A.compile(loss=\"sparse_categorical_crossentropy\",\n",
        "                optimizer=keras.optimizers.SGD(learning_rate=1e-3),\n",
        "                metrics=[\"accuracy\"])"
      ],
      "metadata": {
        "id": "l645jicRXSwi"
      },
      "execution_count": 22,
      "outputs": []
    },
    {
      "cell_type": "code",
      "source": [
        "history = model_A.fit(X_train_A, y_train_A, epochs=10,\n",
        "                    validation_data=(X_valid_A, y_valid_A))"
      ],
      "metadata": {
        "colab": {
          "base_uri": "https://localhost:8080/"
        },
        "id": "zrqL_WLoXSzf",
        "outputId": "317adf61-7d77-491f-e3c7-921c6d6af992"
      },
      "execution_count": 23,
      "outputs": [
        {
          "output_type": "stream",
          "name": "stdout",
          "text": [
            "Epoch 1/10\n",
            "1375/1375 [==============================] - 8s 5ms/step - loss: 0.5926 - accuracy: 0.8104 - val_loss: 0.3896 - val_accuracy: 0.8662\n",
            "Epoch 2/10\n",
            "1375/1375 [==============================] - 6s 4ms/step - loss: 0.3523 - accuracy: 0.8785 - val_loss: 0.3288 - val_accuracy: 0.8824\n",
            "Epoch 3/10\n",
            "1375/1375 [==============================] - 8s 6ms/step - loss: 0.3171 - accuracy: 0.8896 - val_loss: 0.3013 - val_accuracy: 0.8981\n",
            "Epoch 4/10\n",
            "1375/1375 [==============================] - 7s 5ms/step - loss: 0.2973 - accuracy: 0.8974 - val_loss: 0.2894 - val_accuracy: 0.9021\n",
            "Epoch 5/10\n",
            "1375/1375 [==============================] - 7s 5ms/step - loss: 0.2835 - accuracy: 0.9021 - val_loss: 0.2775 - val_accuracy: 0.9063\n",
            "Epoch 6/10\n",
            "1375/1375 [==============================] - 7s 5ms/step - loss: 0.2730 - accuracy: 0.9062 - val_loss: 0.2730 - val_accuracy: 0.9066\n",
            "Epoch 7/10\n",
            "1375/1375 [==============================] - 6s 4ms/step - loss: 0.2641 - accuracy: 0.9092 - val_loss: 0.2718 - val_accuracy: 0.9093\n",
            "Epoch 8/10\n",
            "1375/1375 [==============================] - 5s 4ms/step - loss: 0.2573 - accuracy: 0.9125 - val_loss: 0.2588 - val_accuracy: 0.9143\n",
            "Epoch 9/10\n",
            "1375/1375 [==============================] - 5s 4ms/step - loss: 0.2519 - accuracy: 0.9137 - val_loss: 0.2563 - val_accuracy: 0.9143\n",
            "Epoch 10/10\n",
            "1375/1375 [==============================] - 5s 4ms/step - loss: 0.2469 - accuracy: 0.9154 - val_loss: 0.2541 - val_accuracy: 0.9168\n"
          ]
        }
      ]
    },
    {
      "cell_type": "code",
      "source": [
        "# save the model\n",
        "model_A.save(\"my_model_A.h5\")"
      ],
      "metadata": {
        "id": "ucdffFAMXS2r"
      },
      "execution_count": 28,
      "outputs": []
    },
    {
      "cell_type": "code",
      "source": [
        "model_B = keras.models.Sequential()\n",
        "model_B.add(keras.layers.Flatten(input_shape=[28, 28]))\n",
        "for n_hidden in (300, 100, 50, 50, 50):\n",
        "    model_B.add(keras.layers.Dense(n_hidden, activation=\"selu\"))\n",
        "model_B.add(keras.layers.Dense(1, activation=\"sigmoid\"))"
      ],
      "metadata": {
        "id": "Rlo4I0BCXS5R"
      },
      "execution_count": 24,
      "outputs": []
    },
    {
      "cell_type": "code",
      "source": [
        "model_B.compile(loss=\"binary_crossentropy\",\n",
        "                optimizer=keras.optimizers.SGD(learning_rate=1e-3),\n",
        "                metrics=[\"accuracy\"])"
      ],
      "metadata": {
        "id": "KgQOXM-fXS7_"
      },
      "execution_count": 25,
      "outputs": []
    },
    {
      "cell_type": "code",
      "source": [
        "history = model_B.fit(X_train_B, y_train_B, epochs=10,\n",
        "                      validation_data=(X_valid_B, y_valid_B))"
      ],
      "metadata": {
        "colab": {
          "base_uri": "https://localhost:8080/"
        },
        "id": "HbgZqUI5XS-5",
        "outputId": "1beabe3d-e6fb-435a-a3d6-7b6c18db6ede"
      },
      "execution_count": 26,
      "outputs": [
        {
          "output_type": "stream",
          "name": "stdout",
          "text": [
            "Epoch 1/10\n",
            "7/7 [==============================] - 2s 85ms/step - loss: 0.9573 - accuracy: 0.4650 - val_loss: 0.6314 - val_accuracy: 0.6004\n",
            "Epoch 2/10\n",
            "7/7 [==============================] - 0s 35ms/step - loss: 0.5692 - accuracy: 0.7450 - val_loss: 0.4784 - val_accuracy: 0.8529\n",
            "Epoch 3/10\n",
            "7/7 [==============================] - 0s 30ms/step - loss: 0.4503 - accuracy: 0.8650 - val_loss: 0.4102 - val_accuracy: 0.8945\n",
            "Epoch 4/10\n",
            "7/7 [==============================] - 0s 30ms/step - loss: 0.3879 - accuracy: 0.8950 - val_loss: 0.3647 - val_accuracy: 0.9178\n",
            "Epoch 5/10\n",
            "7/7 [==============================] - 0s 35ms/step - loss: 0.3435 - accuracy: 0.9250 - val_loss: 0.3300 - val_accuracy: 0.9320\n",
            "Epoch 6/10\n",
            "7/7 [==============================] - 0s 36ms/step - loss: 0.3081 - accuracy: 0.9300 - val_loss: 0.3019 - val_accuracy: 0.9402\n",
            "Epoch 7/10\n",
            "7/7 [==============================] - 0s 35ms/step - loss: 0.2800 - accuracy: 0.9350 - val_loss: 0.2804 - val_accuracy: 0.9422\n",
            "Epoch 8/10\n",
            "7/7 [==============================] - 0s 39ms/step - loss: 0.2564 - accuracy: 0.9450 - val_loss: 0.2606 - val_accuracy: 0.9473\n",
            "Epoch 9/10\n",
            "7/7 [==============================] - 0s 37ms/step - loss: 0.2362 - accuracy: 0.9550 - val_loss: 0.2428 - val_accuracy: 0.9523\n",
            "Epoch 10/10\n",
            "7/7 [==============================] - 0s 28ms/step - loss: 0.2188 - accuracy: 0.9600 - val_loss: 0.2281 - val_accuracy: 0.9544\n"
          ]
        }
      ]
    },
    {
      "cell_type": "code",
      "source": [
        "model_B.summary()"
      ],
      "metadata": {
        "colab": {
          "base_uri": "https://localhost:8080/"
        },
        "id": "IyTi2cQRXTBv",
        "outputId": "af29b264-bec7-4648-964a-dba1d4b5ed16"
      },
      "execution_count": 27,
      "outputs": [
        {
          "output_type": "stream",
          "name": "stdout",
          "text": [
            "Model: \"sequential_4\"\n",
            "_________________________________________________________________\n",
            " Layer (type)                Output Shape              Param #   \n",
            "=================================================================\n",
            " flatten_4 (Flatten)         (None, 784)               0         \n",
            "                                                                 \n",
            " dense_17 (Dense)            (None, 300)               235500    \n",
            "                                                                 \n",
            " dense_18 (Dense)            (None, 100)               30100     \n",
            "                                                                 \n",
            " dense_19 (Dense)            (None, 50)                5050      \n",
            "                                                                 \n",
            " dense_20 (Dense)            (None, 50)                2550      \n",
            "                                                                 \n",
            " dense_21 (Dense)            (None, 50)                2550      \n",
            "                                                                 \n",
            " dense_22 (Dense)            (None, 1)                 51        \n",
            "                                                                 \n",
            "=================================================================\n",
            "Total params: 275,801\n",
            "Trainable params: 275,801\n",
            "Non-trainable params: 0\n",
            "_________________________________________________________________\n"
          ]
        }
      ]
    },
    {
      "cell_type": "code",
      "source": [
        "model_A = keras.models.load_model(\"my_model_A.h5\")\n",
        "model_B_on_A = keras.models.Sequential(model_A.layers[:-1])\n",
        "model_B_on_A.add(keras.layers.Dense(1, activation=\"sigmoid\"))"
      ],
      "metadata": {
        "id": "Xx6ScXmxXTE0"
      },
      "execution_count": 29,
      "outputs": []
    },
    {
      "cell_type": "code",
      "source": [
        "model_A_clone = keras.models.clone_model(model_A)\n",
        "model_A_clone.set_weights(model_A.get_weights())\n",
        "model_B_on_A = keras.models.Sequential(model_A_clone.layers[:-1])\n",
        "model_B_on_A.add(keras.layers.Dense(1, activation=\"sigmoid\"))"
      ],
      "metadata": {
        "id": "S3df3FdeXTHv"
      },
      "execution_count": 30,
      "outputs": []
    },
    {
      "cell_type": "code",
      "source": [
        "for layer in model_B_on_A.layers[:-1]:\n",
        "    layer.trainable = False\n",
        "\n",
        "model_B_on_A.compile(loss=\"binary_crossentropy\",\n",
        "                     optimizer=keras.optimizers.SGD(learning_rate=1e-3),\n",
        "                     metrics=[\"accuracy\"])"
      ],
      "metadata": {
        "id": "q4x7kBaPWbQ1"
      },
      "execution_count": 31,
      "outputs": []
    },
    {
      "cell_type": "code",
      "source": [
        "history = model_B_on_A.fit(X_train_B, y_train_B, epochs=4,\n",
        "                           validation_data=(X_valid_B, y_valid_B))\n",
        "\n",
        "for layer in model_B_on_A.layers[:-1]:\n",
        "    layer.trainable = True\n",
        "\n",
        "model_B_on_A.compile(loss=\"binary_crossentropy\",\n",
        "                     optimizer=keras.optimizers.SGD(learning_rate=1e-3),\n",
        "                     metrics=[\"accuracy\"])\n",
        "history = model_B_on_A.fit(X_train_B, y_train_B, epochs=10,\n",
        "                           validation_data=(X_valid_B, y_valid_B))"
      ],
      "metadata": {
        "colab": {
          "base_uri": "https://localhost:8080/"
        },
        "id": "fgTyFm2gX5jW",
        "outputId": "7d0b2f90-7842-4d25-f9de-c74fd9b1a6de"
      },
      "execution_count": 32,
      "outputs": [
        {
          "output_type": "stream",
          "name": "stdout",
          "text": [
            "Epoch 1/4\n",
            "7/7 [==============================] - 1s 79ms/step - loss: 0.2831 - accuracy: 0.9050 - val_loss: 0.2996 - val_accuracy: 0.9118\n",
            "Epoch 2/4\n",
            "7/7 [==============================] - 0s 35ms/step - loss: 0.2733 - accuracy: 0.9250 - val_loss: 0.2899 - val_accuracy: 0.9178\n",
            "Epoch 3/4\n",
            "7/7 [==============================] - 0s 35ms/step - loss: 0.2637 - accuracy: 0.9300 - val_loss: 0.2810 - val_accuracy: 0.9239\n",
            "Epoch 4/4\n",
            "7/7 [==============================] - 0s 33ms/step - loss: 0.2550 - accuracy: 0.9450 - val_loss: 0.2728 - val_accuracy: 0.9270\n",
            "Epoch 1/10\n",
            "7/7 [==============================] - 1s 75ms/step - loss: 0.2281 - accuracy: 0.9450 - val_loss: 0.2201 - val_accuracy: 0.9554\n",
            "Epoch 2/10\n",
            "7/7 [==============================] - 0s 31ms/step - loss: 0.1819 - accuracy: 0.9500 - val_loss: 0.1845 - val_accuracy: 0.9716\n",
            "Epoch 3/10\n",
            "7/7 [==============================] - 0s 31ms/step - loss: 0.1505 - accuracy: 0.9650 - val_loss: 0.1597 - val_accuracy: 0.9787\n",
            "Epoch 4/10\n",
            "7/7 [==============================] - 0s 19ms/step - loss: 0.1278 - accuracy: 0.9850 - val_loss: 0.1416 - val_accuracy: 0.9797\n",
            "Epoch 5/10\n",
            "7/7 [==============================] - 0s 31ms/step - loss: 0.1115 - accuracy: 0.9900 - val_loss: 0.1279 - val_accuracy: 0.9838\n",
            "Epoch 6/10\n",
            "7/7 [==============================] - 0s 20ms/step - loss: 0.0987 - accuracy: 0.9900 - val_loss: 0.1171 - val_accuracy: 0.9848\n",
            "Epoch 7/10\n",
            "7/7 [==============================] - 0s 31ms/step - loss: 0.0888 - accuracy: 0.9950 - val_loss: 0.1084 - val_accuracy: 0.9858\n",
            "Epoch 8/10\n",
            "7/7 [==============================] - 0s 32ms/step - loss: 0.0807 - accuracy: 0.9950 - val_loss: 0.1011 - val_accuracy: 0.9858\n",
            "Epoch 9/10\n",
            "7/7 [==============================] - 0s 31ms/step - loss: 0.0739 - accuracy: 0.9950 - val_loss: 0.0945 - val_accuracy: 0.9858\n",
            "Epoch 10/10\n",
            "7/7 [==============================] - 0s 31ms/step - loss: 0.0678 - accuracy: 0.9950 - val_loss: 0.0894 - val_accuracy: 0.9868\n"
          ]
        }
      ]
    },
    {
      "cell_type": "code",
      "source": [
        "model_B.evaluate(X_test_B, y_test_B)"
      ],
      "metadata": {
        "colab": {
          "base_uri": "https://localhost:8080/"
        },
        "id": "Ws3Q1s-SX5mT",
        "outputId": "bb5ed49c-f4dc-4313-8c50-1beb1af50ab5"
      },
      "execution_count": 33,
      "outputs": [
        {
          "output_type": "stream",
          "name": "stdout",
          "text": [
            "63/63 [==============================] - 0s 5ms/step - loss: 0.2265 - accuracy: 0.9580\n"
          ]
        },
        {
          "output_type": "execute_result",
          "data": {
            "text/plain": [
              "[0.22645285725593567, 0.9580000042915344]"
            ]
          },
          "metadata": {},
          "execution_count": 33
        }
      ]
    },
    {
      "cell_type": "code",
      "source": [
        "model_B_on_A.evaluate(X_test_B, y_test_B)"
      ],
      "metadata": {
        "colab": {
          "base_uri": "https://localhost:8080/"
        },
        "id": "kxtolL14X5pL",
        "outputId": "9032d1eb-0525-4771-e77a-8afa29e630c5"
      },
      "execution_count": 34,
      "outputs": [
        {
          "output_type": "stream",
          "name": "stdout",
          "text": [
            "63/63 [==============================] - 0s 5ms/step - loss: 0.0805 - accuracy: 0.9910\n"
          ]
        },
        {
          "output_type": "execute_result",
          "data": {
            "text/plain": [
              "[0.08052635192871094, 0.9909999966621399]"
            ]
          },
          "metadata": {},
          "execution_count": 34
        }
      ]
    },
    {
      "cell_type": "code",
      "source": [
        ""
      ],
      "metadata": {
        "id": "8AG30OVMX5sN"
      },
      "execution_count": null,
      "outputs": []
    },
    {
      "cell_type": "markdown",
      "source": [
        "**Optimizers & Learning Rate Scheduling**"
      ],
      "metadata": {
        "id": "0uAghrQUYHxi"
      }
    },
    {
      "cell_type": "code",
      "source": [
        "optimizer = keras.optimizers.SGD(learning_rate=0.01, decay=1e-4)"
      ],
      "metadata": {
        "id": "T0v1vbpaX5vv"
      },
      "execution_count": 35,
      "outputs": []
    },
    {
      "cell_type": "code",
      "source": [
        "model = keras.models.Sequential([\n",
        "    keras.layers.Flatten(input_shape=[28, 28]),\n",
        "    keras.layers.Dense(300, activation=\"selu\", kernel_initializer=\"lecun_normal\"),\n",
        "    keras.layers.Dense(100, activation=\"selu\", kernel_initializer=\"lecun_normal\"),\n",
        "    keras.layers.Dense(10, activation=\"softmax\")\n",
        "])\n",
        "model.compile(loss=\"sparse_categorical_crossentropy\", optimizer=optimizer, metrics=[\"accuracy\"])"
      ],
      "metadata": {
        "id": "0JRnEVv7X5xy"
      },
      "execution_count": 43,
      "outputs": []
    },
    {
      "cell_type": "code",
      "source": [
        "np.random.seed(42)\n",
        "tf.random.set_seed(42)"
      ],
      "metadata": {
        "id": "9JnsHSlEYvee"
      },
      "execution_count": 38,
      "outputs": []
    },
    {
      "cell_type": "code",
      "source": [
        "pixel_means = X_train.mean(axis=0, keepdims=True)\n",
        "pixel_stds = X_train.std(axis=0, keepdims=True)\n",
        "X_train_scaled = (X_train - pixel_means) / pixel_stds\n",
        "X_valid_scaled = (X_valid - pixel_means) / pixel_stds\n",
        "X_test_scaled = (X_test - pixel_means) / pixel_stds"
      ],
      "metadata": {
        "id": "fx2HtkpHYvhD"
      },
      "execution_count": 40,
      "outputs": []
    },
    {
      "cell_type": "code",
      "source": [
        "n_epochs = 25\n",
        "history = model.fit(X_train_scaled, y_train, epochs=n_epochs, validation_data=(X_valid_scaled, y_valid))"
      ],
      "metadata": {
        "colab": {
          "base_uri": "https://localhost:8080/"
        },
        "id": "WipNY4RuYRo6",
        "outputId": "ec2b9539-27ca-45cc-f8dd-68c4b9b9365c"
      },
      "execution_count": 44,
      "outputs": [
        {
          "output_type": "stream",
          "name": "stdout",
          "text": [
            "Epoch 1/25\n",
            "1719/1719 [==============================] - 7s 4ms/step - loss: 0.4919 - accuracy: 0.8263 - val_loss: 0.4029 - val_accuracy: 0.8606\n",
            "Epoch 2/25\n",
            "1719/1719 [==============================] - 6s 4ms/step - loss: 0.3810 - accuracy: 0.8640 - val_loss: 0.3728 - val_accuracy: 0.8728\n",
            "Epoch 3/25\n",
            "1719/1719 [==============================] - 6s 3ms/step - loss: 0.3483 - accuracy: 0.8762 - val_loss: 0.3731 - val_accuracy: 0.8690\n",
            "Epoch 4/25\n",
            "1719/1719 [==============================] - 7s 4ms/step - loss: 0.3273 - accuracy: 0.8830 - val_loss: 0.3508 - val_accuracy: 0.8768\n",
            "Epoch 5/25\n",
            "1719/1719 [==============================] - 7s 4ms/step - loss: 0.3122 - accuracy: 0.8888 - val_loss: 0.3452 - val_accuracy: 0.8756\n",
            "Epoch 6/25\n",
            "1719/1719 [==============================] - 6s 3ms/step - loss: 0.2986 - accuracy: 0.8935 - val_loss: 0.3428 - val_accuracy: 0.8824\n",
            "Epoch 7/25\n",
            "1719/1719 [==============================] - 6s 3ms/step - loss: 0.2887 - accuracy: 0.8979 - val_loss: 0.3373 - val_accuracy: 0.8814\n",
            "Epoch 8/25\n",
            "1719/1719 [==============================] - 6s 3ms/step - loss: 0.2800 - accuracy: 0.9000 - val_loss: 0.3408 - val_accuracy: 0.8790\n",
            "Epoch 9/25\n",
            "1719/1719 [==============================] - 6s 4ms/step - loss: 0.2715 - accuracy: 0.9036 - val_loss: 0.3319 - val_accuracy: 0.8808\n",
            "Epoch 10/25\n",
            "1719/1719 [==============================] - 6s 3ms/step - loss: 0.2646 - accuracy: 0.9057 - val_loss: 0.3285 - val_accuracy: 0.8826\n",
            "Epoch 11/25\n",
            "1719/1719 [==============================] - 6s 4ms/step - loss: 0.2586 - accuracy: 0.9077 - val_loss: 0.3317 - val_accuracy: 0.8864\n",
            "Epoch 12/25\n",
            "1719/1719 [==============================] - 6s 3ms/step - loss: 0.2528 - accuracy: 0.9106 - val_loss: 0.3391 - val_accuracy: 0.8818\n",
            "Epoch 13/25\n",
            "1719/1719 [==============================] - 7s 4ms/step - loss: 0.2476 - accuracy: 0.9132 - val_loss: 0.3294 - val_accuracy: 0.8874\n",
            "Epoch 14/25\n",
            "1719/1719 [==============================] - 6s 3ms/step - loss: 0.2436 - accuracy: 0.9139 - val_loss: 0.3310 - val_accuracy: 0.8850\n",
            "Epoch 15/25\n",
            "1719/1719 [==============================] - 6s 3ms/step - loss: 0.2386 - accuracy: 0.9155 - val_loss: 0.3264 - val_accuracy: 0.8850\n",
            "Epoch 16/25\n",
            "1719/1719 [==============================] - 6s 4ms/step - loss: 0.2347 - accuracy: 0.9173 - val_loss: 0.3232 - val_accuracy: 0.8856\n",
            "Epoch 17/25\n",
            "1719/1719 [==============================] - 6s 3ms/step - loss: 0.2311 - accuracy: 0.9186 - val_loss: 0.3266 - val_accuracy: 0.8866\n",
            "Epoch 18/25\n",
            "1719/1719 [==============================] - 6s 4ms/step - loss: 0.2273 - accuracy: 0.9208 - val_loss: 0.3228 - val_accuracy: 0.8882\n",
            "Epoch 19/25\n",
            "1719/1719 [==============================] - 6s 4ms/step - loss: 0.2241 - accuracy: 0.9223 - val_loss: 0.3253 - val_accuracy: 0.8896\n",
            "Epoch 20/25\n",
            "1719/1719 [==============================] - 6s 4ms/step - loss: 0.2211 - accuracy: 0.9225 - val_loss: 0.3234 - val_accuracy: 0.8882\n",
            "Epoch 21/25\n",
            "1719/1719 [==============================] - 6s 3ms/step - loss: 0.2176 - accuracy: 0.9242 - val_loss: 0.3240 - val_accuracy: 0.8894\n",
            "Epoch 22/25\n",
            "1719/1719 [==============================] - 6s 4ms/step - loss: 0.2152 - accuracy: 0.9250 - val_loss: 0.3223 - val_accuracy: 0.8882\n",
            "Epoch 23/25\n",
            "1719/1719 [==============================] - 6s 3ms/step - loss: 0.2124 - accuracy: 0.9259 - val_loss: 0.3234 - val_accuracy: 0.8882\n",
            "Epoch 24/25\n",
            "1719/1719 [==============================] - 6s 4ms/step - loss: 0.2096 - accuracy: 0.9271 - val_loss: 0.3238 - val_accuracy: 0.8896\n",
            "Epoch 25/25\n",
            "1719/1719 [==============================] - 6s 3ms/step - loss: 0.2075 - accuracy: 0.9281 - val_loss: 0.3243 - val_accuracy: 0.8882\n"
          ]
        }
      ]
    },
    {
      "cell_type": "code",
      "source": [
        "import math\n",
        "\n",
        "learning_rate = 0.01\n",
        "decay = 1e-4\n",
        "batch_size = 32\n",
        "n_steps_per_epoch = math.ceil(len(X_train) / batch_size)\n",
        "epochs = np.arange(n_epochs)\n",
        "lrs = learning_rate / (1 + decay * epochs * n_steps_per_epoch)\n",
        "\n",
        "plt.plot(epochs, lrs,  \"o-\")\n",
        "plt.axis([0, n_epochs - 1, 0, 0.01])\n",
        "plt.xlabel(\"Epoch\")\n",
        "plt.ylabel(\"Learning Rate\")\n",
        "plt.title(\"Power Scheduling\", fontsize=14)\n",
        "plt.grid(True)\n",
        "plt.show()"
      ],
      "metadata": {
        "colab": {
          "base_uri": "https://localhost:8080/",
          "height": 303
        },
        "id": "L6J7-K8IYRr0",
        "outputId": "7cfd2e4f-57a1-47f8-dfc3-f44f036b4ad2"
      },
      "execution_count": 45,
      "outputs": [
        {
          "output_type": "display_data",
          "data": {
            "text/plain": [
              "<Figure size 432x288 with 1 Axes>"
            ],
            "image/png": "[encoded data removed]"
          },
          "metadata": {
            "needs_background": "light"
          }
        }
      ]
    },
    {
      "cell_type": "markdown",
      "source": [
        "**Exponential Scheduling**"
      ],
      "metadata": {
        "id": "u0wUce9ZZ-dW"
      }
    },
    {
      "cell_type": "code",
      "source": [
        "def exponential_decay_fn(epoch):\n",
        "    return 0.01 * 0.1**(epoch / 20)"
      ],
      "metadata": {
        "id": "n3mKvmsyYRvU"
      },
      "execution_count": 46,
      "outputs": []
    },
    {
      "cell_type": "code",
      "source": [
        "def exponential_decay(lr0, s):\n",
        "    def exponential_decay_fn(epoch):\n",
        "        return lr0 * 0.1**(epoch / s)\n",
        "    return exponential_decay_fn\n",
        "\n",
        "exponential_decay_fn = exponential_decay(lr0=0.01, s=20)"
      ],
      "metadata": {
        "id": "4GN6Ec88X503"
      },
      "execution_count": 47,
      "outputs": []
    },
    {
      "cell_type": "code",
      "source": [
        "model = keras.models.Sequential([\n",
        "    keras.layers.Flatten(input_shape=[28, 28]),\n",
        "    keras.layers.Dense(300, activation=\"selu\", kernel_initializer=\"lecun_normal\"),\n",
        "    keras.layers.Dense(100, activation=\"selu\", kernel_initializer=\"lecun_normal\"),\n",
        "    keras.layers.Dense(10, activation=\"softmax\")\n",
        "])\n",
        "model.compile(loss=\"sparse_categorical_crossentropy\", optimizer=\"nadam\", metrics=[\"accuracy\"])\n",
        "n_epochs = 25"
      ],
      "metadata": {
        "id": "42BFKNCpaC9R"
      },
      "execution_count": 48,
      "outputs": []
    },
    {
      "cell_type": "code",
      "source": [
        "lr_scheduler = keras.callbacks.LearningRateScheduler(exponential_decay_fn)\n",
        "history = model.fit(X_train_scaled, y_train, epochs=n_epochs,\n",
        "                    validation_data=(X_valid_scaled, y_valid),\n",
        "                    callbacks=[lr_scheduler])"
      ],
      "metadata": {
        "colab": {
          "base_uri": "https://localhost:8080/"
        },
        "id": "hHiw3rbPaDAA",
        "outputId": "22667e90-befc-46cc-d67d-bf58beeaf9b3"
      },
      "execution_count": 49,
      "outputs": [
        {
          "output_type": "stream",
          "name": "stdout",
          "text": [
            "Epoch 1/25\n",
            "1719/1719 [==============================] - 12s 6ms/step - loss: 0.8780 - accuracy: 0.7476 - val_loss: 0.8024 - val_accuracy: 0.7482 - lr: 0.0100\n",
            "Epoch 2/25\n",
            "1719/1719 [==============================] - 8s 5ms/step - loss: 0.6970 - accuracy: 0.7863 - val_loss: 0.6898 - val_accuracy: 0.8116 - lr: 0.0089\n",
            "Epoch 3/25\n",
            "1719/1719 [==============================] - 9s 5ms/step - loss: 0.6269 - accuracy: 0.8061 - val_loss: 0.8295 - val_accuracy: 0.7760 - lr: 0.0079\n",
            "Epoch 4/25\n",
            "1719/1719 [==============================] - 11s 6ms/step - loss: 0.5705 - accuracy: 0.8258 - val_loss: 0.4982 - val_accuracy: 0.8446 - lr: 0.0071\n",
            "Epoch 5/25\n",
            "1719/1719 [==============================] - 8s 5ms/step - loss: 0.5021 - accuracy: 0.8434 - val_loss: 0.5216 - val_accuracy: 0.8508 - lr: 0.0063\n",
            "Epoch 6/25\n",
            "1719/1719 [==============================] - 8s 5ms/step - loss: 0.4771 - accuracy: 0.8508 - val_loss: 0.4828 - val_accuracy: 0.8560 - lr: 0.0056\n",
            "Epoch 7/25\n",
            "1719/1719 [==============================] - 8s 5ms/step - loss: 0.4064 - accuracy: 0.8681 - val_loss: 0.4808 - val_accuracy: 0.8548 - lr: 0.0050\n",
            "Epoch 8/25\n",
            "1719/1719 [==============================] - 13s 8ms/step - loss: 0.3847 - accuracy: 0.8756 - val_loss: 0.5349 - val_accuracy: 0.8502 - lr: 0.0045\n",
            "Epoch 9/25\n",
            "1719/1719 [==============================] - 13s 8ms/step - loss: 0.3617 - accuracy: 0.8829 - val_loss: 0.5760 - val_accuracy: 0.8542 - lr: 0.0040\n",
            "Epoch 10/25\n",
            "1719/1719 [==============================] - 8s 5ms/step - loss: 0.3489 - accuracy: 0.8874 - val_loss: 0.4637 - val_accuracy: 0.8842 - lr: 0.0035\n",
            "Epoch 11/25\n",
            "1719/1719 [==============================] - 8s 5ms/step - loss: 0.3062 - accuracy: 0.8974 - val_loss: 0.4581 - val_accuracy: 0.8806 - lr: 0.0032\n",
            "Epoch 12/25\n",
            "1719/1719 [==============================] - 11s 6ms/step - loss: 0.2877 - accuracy: 0.9042 - val_loss: 0.4675 - val_accuracy: 0.8758 - lr: 0.0028\n",
            "Epoch 13/25\n",
            "1719/1719 [==============================] - 8s 5ms/step - loss: 0.2670 - accuracy: 0.9095 - val_loss: 0.5184 - val_accuracy: 0.8844 - lr: 0.0025\n",
            "Epoch 14/25\n",
            "1719/1719 [==============================] - 9s 5ms/step - loss: 0.2522 - accuracy: 0.9148 - val_loss: 0.4716 - val_accuracy: 0.8816 - lr: 0.0022\n",
            "Epoch 15/25\n",
            "1719/1719 [==============================] - 12s 7ms/step - loss: 0.2348 - accuracy: 0.9202 - val_loss: 0.4852 - val_accuracy: 0.8834 - lr: 0.0020\n",
            "Epoch 16/25\n",
            "1719/1719 [==============================] - 9s 5ms/step - loss: 0.2140 - accuracy: 0.9273 - val_loss: 0.4618 - val_accuracy: 0.8878 - lr: 0.0018\n",
            "Epoch 17/25\n",
            "1719/1719 [==============================] - 12s 7ms/step - loss: 0.2020 - accuracy: 0.9314 - val_loss: 0.5408 - val_accuracy: 0.8864 - lr: 0.0016\n",
            "Epoch 18/25\n",
            "1719/1719 [==============================] - 10s 6ms/step - loss: 0.1864 - accuracy: 0.9358 - val_loss: 0.5466 - val_accuracy: 0.8886 - lr: 0.0014\n",
            "Epoch 19/25\n",
            "1719/1719 [==============================] - 11s 6ms/step - loss: 0.1762 - accuracy: 0.9407 - val_loss: 0.5718 - val_accuracy: 0.8886 - lr: 0.0013\n",
            "Epoch 20/25\n",
            "1719/1719 [==============================] - 8s 5ms/step - loss: 0.1659 - accuracy: 0.9436 - val_loss: 0.5787 - val_accuracy: 0.8858 - lr: 0.0011\n",
            "Epoch 21/25\n",
            "1719/1719 [==============================] - 8s 5ms/step - loss: 0.1549 - accuracy: 0.9473 - val_loss: 0.5037 - val_accuracy: 0.8868 - lr: 0.0010\n",
            "Epoch 22/25\n",
            "1719/1719 [==============================] - 8s 5ms/step - loss: 0.1435 - accuracy: 0.9518 - val_loss: 0.5747 - val_accuracy: 0.8896 - lr: 8.9125e-04\n",
            "Epoch 23/25\n",
            "1719/1719 [==============================] - 9s 5ms/step - loss: 0.1337 - accuracy: 0.9558 - val_loss: 0.5856 - val_accuracy: 0.8850 - lr: 7.9433e-04\n",
            "Epoch 24/25\n",
            "1719/1719 [==============================] - 9s 5ms/step - loss: 0.1282 - accuracy: 0.9576 - val_loss: 0.5833 - val_accuracy: 0.8878 - lr: 7.0795e-04\n",
            "Epoch 25/25\n",
            "1719/1719 [==============================] - 8s 5ms/step - loss: 0.1197 - accuracy: 0.9606 - val_loss: 0.5865 - val_accuracy: 0.8882 - lr: 6.3096e-04\n"
          ]
        }
      ]
    },
    {
      "cell_type": "code",
      "source": [
        "plt.plot(history.epoch, history.history[\"lr\"], \"o-\")\n",
        "plt.axis([0, n_epochs - 1, 0, 0.011])\n",
        "plt.xlabel(\"Epoch\")\n",
        "plt.ylabel(\"Learning Rate\")\n",
        "plt.title(\"Exponential Scheduling\", fontsize=14)\n",
        "plt.grid(True)\n",
        "plt.show()"
      ],
      "metadata": {
        "colab": {
          "base_uri": "https://localhost:8080/",
          "height": 303
        },
        "id": "eBjwppD3aDDC",
        "outputId": "58deea2e-2dd3-42b4-96c2-6f4a30fc82c8"
      },
      "execution_count": 50,
      "outputs": [
        {
          "output_type": "display_data",
          "data": {
            "text/plain": [
              "<Figure size 432x288 with 1 Axes>"
            ],
            "image/png": "[encoded data removed]"
          },
          "metadata": {
            "needs_background": "light"
          }
        }
      ]
    },
    {
      "cell_type": "code",
      "source": [
        ""
      ],
      "metadata": {
        "id": "5i1PyrwbaDIZ"
      },
      "execution_count": null,
      "outputs": []
    },
    {
      "cell_type": "markdown",
      "source": [
        "**L1&L2 regularization**"
      ],
      "metadata": {
        "id": "FpwOBMbZaaIo"
      }
    },
    {
      "cell_type": "code",
      "source": [
        "layer = keras.layers.Dense(100, activation=\"elu\",\n",
        "                           kernel_initializer=\"he_normal\",\n",
        "                           kernel_regularizer=keras.regularizers.l2(0.01))\n",
        "# or l1(0.1) for ℓ1 regularization with a factor of 0.1\n",
        "# or l1_l2(0.1, 0.01) for both ℓ1 and ℓ2 regularization, with factors 0.1 and 0.01 respectively"
      ],
      "metadata": {
        "id": "5uzR1yqiaDLe"
      },
      "execution_count": 51,
      "outputs": []
    },
    {
      "cell_type": "code",
      "source": [
        "model = keras.models.Sequential([\n",
        "    keras.layers.Flatten(input_shape=[28, 28]),\n",
        "    keras.layers.Dense(300, activation=\"elu\",\n",
        "                       kernel_initializer=\"he_normal\",\n",
        "                       kernel_regularizer=keras.regularizers.l2(0.01)),\n",
        "    keras.layers.Dense(100, activation=\"elu\",\n",
        "                       kernel_initializer=\"he_normal\",\n",
        "                       kernel_regularizer=keras.regularizers.l2(0.01)),\n",
        "    keras.layers.Dense(10, activation=\"softmax\",\n",
        "                       kernel_regularizer=keras.regularizers.l2(0.01))\n",
        "])\n",
        "model.compile(loss=\"sparse_categorical_crossentropy\", optimizer=\"nadam\", metrics=[\"accuracy\"])\n",
        "n_epochs = 2\n",
        "history = model.fit(X_train_scaled, y_train, epochs=n_epochs,\n",
        "                    validation_data=(X_valid_scaled, y_valid))"
      ],
      "metadata": {
        "colab": {
          "base_uri": "https://localhost:8080/"
        },
        "id": "DaOlmC7vaDOZ",
        "outputId": "a41a1bc6-9dc8-4b5f-b2af-73b98059f09a"
      },
      "execution_count": 52,
      "outputs": [
        {
          "output_type": "stream",
          "name": "stdout",
          "text": [
            "Epoch 1/2\n",
            "1719/1719 [==============================] - 10s 5ms/step - loss: 1.6106 - accuracy: 0.8115 - val_loss: 0.7174 - val_accuracy: 0.8300\n",
            "Epoch 2/2\n",
            "1719/1719 [==============================] - 9s 5ms/step - loss: 0.7182 - accuracy: 0.8277 - val_loss: 0.6807 - val_accuracy: 0.8394\n"
          ]
        }
      ]
    },
    {
      "cell_type": "code",
      "source": [
        "from functools import partial\n",
        "\n",
        "RegularizedDense = partial(keras.layers.Dense,\n",
        "                           activation=\"elu\",\n",
        "                           kernel_initializer=\"he_normal\",\n",
        "                           kernel_regularizer=keras.regularizers.l2(0.01))\n",
        "\n",
        "model = keras.models.Sequential([\n",
        "    keras.layers.Flatten(input_shape=[28, 28]),\n",
        "    RegularizedDense(300),\n",
        "    RegularizedDense(100),\n",
        "    RegularizedDense(10, activation=\"softmax\")\n",
        "])\n",
        "model.compile(loss=\"sparse_categorical_crossentropy\", optimizer=\"nadam\", metrics=[\"accuracy\"])\n",
        "n_epochs = 2\n",
        "history = model.fit(X_train_scaled, y_train, epochs=n_epochs,\n",
        "                    validation_data=(X_valid_scaled, y_valid))"
      ],
      "metadata": {
        "colab": {
          "base_uri": "https://localhost:8080/"
        },
        "id": "rh9lJWdDanh1",
        "outputId": "1f314a04-187d-4694-a76e-c0542bebe5ad"
      },
      "execution_count": 53,
      "outputs": [
        {
          "output_type": "stream",
          "name": "stdout",
          "text": [
            "Epoch 1/2\n",
            "1719/1719 [==============================] - 10s 6ms/step - loss: 1.6600 - accuracy: 0.8123 - val_loss: 0.7201 - val_accuracy: 0.8336\n",
            "Epoch 2/2\n",
            "1719/1719 [==============================] - 9s 5ms/step - loss: 0.7232 - accuracy: 0.8272 - val_loss: 0.6848 - val_accuracy: 0.8392\n"
          ]
        }
      ]
    },
    {
      "cell_type": "code",
      "source": [
        ""
      ],
      "metadata": {
        "id": "ved_Cee7anlT"
      },
      "execution_count": null,
      "outputs": []
    },
    {
      "cell_type": "markdown",
      "source": [
        "**Dropout**"
      ],
      "metadata": {
        "id": "CxFfpGBfauNl"
      }
    },
    {
      "cell_type": "code",
      "source": [
        "model = keras.models.Sequential([\n",
        "    keras.layers.Flatten(input_shape=[28, 28]),\n",
        "    keras.layers.Dropout(rate=0.2),\n",
        "    keras.layers.Dense(300, activation=\"elu\", kernel_initializer=\"he_normal\"),\n",
        "    keras.layers.Dropout(rate=0.2),\n",
        "    keras.layers.Dense(100, activation=\"elu\", kernel_initializer=\"he_normal\"),\n",
        "    keras.layers.Dropout(rate=0.2),\n",
        "    keras.layers.Dense(10, activation=\"softmax\")\n",
        "])\n",
        "model.compile(loss=\"sparse_categorical_crossentropy\", optimizer=\"nadam\", metrics=[\"accuracy\"])\n",
        "n_epochs = 2\n",
        "history = model.fit(X_train_scaled, y_train, epochs=n_epochs,\n",
        "                    validation_data=(X_valid_scaled, y_valid))"
      ],
      "metadata": {
        "colab": {
          "base_uri": "https://localhost:8080/"
        },
        "id": "FZOAA2oaanqD",
        "outputId": "4d0ef53d-2ad4-45e9-8675-83b0426b6275"
      },
      "execution_count": 54,
      "outputs": [
        {
          "output_type": "stream",
          "name": "stdout",
          "text": [
            "Epoch 1/2\n",
            "1719/1719 [==============================] - 10s 5ms/step - loss: 0.5761 - accuracy: 0.8037 - val_loss: 0.3816 - val_accuracy: 0.8612\n",
            "Epoch 2/2\n",
            "1719/1719 [==============================] - 9s 5ms/step - loss: 0.4190 - accuracy: 0.8461 - val_loss: 0.3466 - val_accuracy: 0.8700\n"
          ]
        }
      ]
    },
    {
      "cell_type": "code",
      "source": [
        ""
      ],
      "metadata": {
        "id": "gC6X9mYxantB"
      },
      "execution_count": null,
      "outputs": []
    }
  ]
}